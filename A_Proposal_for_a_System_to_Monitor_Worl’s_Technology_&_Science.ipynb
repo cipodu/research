{
  "nbformat": 4,
  "nbformat_minor": 0,
  "metadata": {
    "colab": {
      "provenance": [],
      "authorship_tag": "ABX9TyO4z/4GBQPJMAouqY+N7rfy",
      "include_colab_link": true
    },
    "kernelspec": {
      "name": "python3",
      "display_name": "Python 3"
    },
    "language_info": {
      "name": "python"
    }
  },
  "cells": [
    {
      "cell_type": "markdown",
      "metadata": {
        "id": "view-in-github",
        "colab_type": "text"
      },
      "source": [
        "<a href=\"https://colab.research.google.com/github/cipodu/research/blob/main/A_Proposal_for_a_System_to_Monitor_Worl%E2%80%99s_Technology_%26_Science.ipynb\" target=\"_parent\"><img src=\"https://colab.research.google.com/assets/colab-badge.svg\" alt=\"Open In Colab\"/></a>"
      ]
    },
    {
      "cell_type": "markdown",
      "source": [
        "# A Proposal for a System to Monitor Worl’s Technology & Science"
      ],
      "metadata": {
        "id": "pX3InHhtUWac"
      }
    }
  ]
}