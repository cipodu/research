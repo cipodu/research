{
  "nbformat": 4,
  "nbformat_minor": 0,
  "metadata": {
    "colab": {
      "provenance": [],
      "authorship_tag": "ABX9TyMTv0/UA8Gv2mumu9jrwt3W",
      "include_colab_link": true
    },
    "kernelspec": {
      "name": "python3",
      "display_name": "Python 3"
    },
    "language_info": {
      "name": "python"
    }
  },
  "cells": [
    {
      "cell_type": "markdown",
      "metadata": {
        "id": "view-in-github",
        "colab_type": "text"
      },
      "source": [
        "<a href=\"https://colab.research.google.com/github/cipodu/research/blob/main/research/educacion/Consejo_Menor_Institutos_Tecnicos.ipynb\" target=\"_parent\"><img src=\"https://colab.research.google.com/assets/colab-badge.svg\" alt=\"Open In Colab\"/></a>"
      ]
    },
    {
      "cell_type": "markdown",
      "source": [
        "# Consejo Menor de Institutos Técnicos\n",
        "\n",
        "> Provide technical people to the job market.\n",
        ">\n",
        "- Infotep\n",
        "- Itla\n",
        "- …"
      ],
      "metadata": {
        "id": "l_L8tTE-Vzlt"
      }
    }
  ]
}