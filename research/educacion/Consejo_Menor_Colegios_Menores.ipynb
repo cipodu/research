{
  "nbformat": 4,
  "nbformat_minor": 0,
  "metadata": {
    "colab": {
      "provenance": [],
      "authorship_tag": "ABX9TyNLaEq5P1WJ1EUBtAl7vTEf",
      "include_colab_link": true
    },
    "kernelspec": {
      "name": "python3",
      "display_name": "Python 3"
    },
    "language_info": {
      "name": "python"
    }
  },
  "cells": [
    {
      "cell_type": "markdown",
      "metadata": {
        "id": "view-in-github",
        "colab_type": "text"
      },
      "source": [
        "<a href=\"https://colab.research.google.com/github/cipodu/research/blob/main/research/educacion/Consejo_Menor_Colegios_Menores.ipynb\" target=\"_parent\"><img src=\"https://colab.research.google.com/assets/colab-badge.svg\" alt=\"Open In Colab\"/></a>"
      ]
    },
    {
      "cell_type": "markdown",
      "source": [
        "# Consejo Menor Colegio Menores"
      ],
      "metadata": {
        "id": "gSNpDVrGcDM3"
      }
    },
    {
      "cell_type": "markdown",
      "source": [
        "Model:\n",
        "\n",
        "> Continous Model:   Bachiller.\n",
        ">\n",
        "\n",
        "> 10 Years: 6 Años → 16 Años.\n",
        ">\n",
        "\n",
        "> University Models :  Very Adaptable Curriculum |  Can Take Test to Pass The Class Without Taking It.\n",
        ">\n",
        "\n",
        "Model:\n",
        "\n",
        "→ **Academia General**: -  6 Years (6-12) + Must Learn a Foreign Language.\n",
        "\n",
        "→ **Semanario**:  (12-) Max  - 20:  Specialized  (Thinking & Doing) / Mens et Manus.\n",
        "\n",
        "→ **Studia Complementaria**: Life-Long Courses\n",
        "\n",
        "→ **Academia Preparatoria**: Life-Long Courses\n",
        "\n",
        "→ Academia de Idiomas: Learn Langauges\n",
        "\n",
        "## Organizational Models\n",
        "\n",
        "- Patronato\n",
        "- Obserbatorio:\n",
        "    - Informes\n",
        "- Consejo Administracion\n",
        "    - Diseña Planes Estudios\n",
        "    - …\n",
        "- Seminario Menor <<X>> de <<Type>>\n",
        "- Seminario Menor <<X>> de <<Type>>, …,  y  <<Type>>\n",
        "- Seminario Menor <<X>> → Universal\n",
        "\n",
        "## References\n",
        "\n",
        "[Generalia](https://github.com/cipodu/research/blob/main/agency/Generalia.ipynb)\n",
        "\n",
        "[Seminarium](https://github.com/cipodu/research/blob/main/agency/Seminarium.ipynb)\n",
        "\n",
        "[Complementaria](https://github.com/cipodu/research/blob/main/agency/Complementaria.ipynb)\n",
        "\n",
        "[Preparatoria](https://github.com/cipodu/research/blob/main/agency/Preparatoria.ipynb)\n",
        "\n",
        "\n",
        "- [MIT Introduction to Technology, Engineering, and Science](https://mites.mit.edu/)\n",
        "- [Colegio Menor](https://es.wikipedia.org/wiki/Colegio_menor)\n",
        "- Collegiums\n",
        "    - [Lycée Henri-IV](https://en.wikipedia.org/wiki/Lyc%C3%A9e_Henri-IV)\n",
        "    - [Colegio de Belén](https://es.wikipedia.org/wiki/Colegio_de_Belén)\n",
        "    - [Instituto Ramiro de Maeztu](https://es.wikipedia.org/wiki/Instituto_Ramiro_de_Maeztu)\n",
        "    - [Gymnasium of the Thomas School in Leipzig](https://en.wikipedia.org/wiki/St._Thomas_School,_Leipzig)\n",
        "    - [Eton College](https://www.etoncollege.com/)\n",
        "    - [Bronx High School of Science](https://www.bxscience.edu/)\n",
        "    - [Illinois Mathematics and Science Academy (Illinois, USA)](https://www.imsa.edu/)\n",
        "    - [Thomas Jefferson High School for Science and Technology (Virginia, USA)](https://tjhsst.fcps.edu/)\n",
        "    - [Seoul Science High School (South Korea)](http://en.sshs.hs.kr/html/index.php)\n",
        "    - High School Summer Projects Research Program\n",
        "    https://www.wolframcloud.com/obj/microsites/summer-research-high-school/projects.html\n",
        "    - [Moscow Physics and Mathematics School (Russia)](https://eng.mipt.ru/)\n",
        "- Models\n",
        "    - [Secondary education in France](https://en.wikipedia.org/wiki/Secondary_education_in_France#Lyc%C3%A9e)\n",
        "    - [Education in Estonia](https://en.wikipedia.org/wiki/Education_in_Estonia)\n",
        "    - [Education in Finland](https://en.wikipedia.org/wiki/Education_in_Finland)\n",
        "    - [Education in Germany](https://en.wikipedia.org/wiki/Education_in_Germany)\n",
        "    - [Secondary Education in Italy](https://en.wikipedia.org/wiki/Secondary_education_in_Italy)\n",
        "    - [Paideía](https://es.wikipedia.org/wiki/Paide%C3%ADa)"
      ],
      "metadata": {
        "id": "ygaiZIURIZa1"
      }
    }
  ]
}