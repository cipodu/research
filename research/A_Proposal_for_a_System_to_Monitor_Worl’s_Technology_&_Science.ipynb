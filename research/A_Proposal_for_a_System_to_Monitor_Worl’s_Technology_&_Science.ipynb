{
  "nbformat": 4,
  "nbformat_minor": 0,
  "metadata": {
    "colab": {
      "provenance": [],
      "authorship_tag": "ABX9TyNnoUdwuxLwot1Ntom9rqmN",
      "include_colab_link": true
    },
    "kernelspec": {
      "name": "python3",
      "display_name": "Python 3"
    },
    "language_info": {
      "name": "python"
    }
  },
  "cells": [
    {
      "cell_type": "markdown",
      "metadata": {
        "id": "view-in-github",
        "colab_type": "text"
      },
      "source": [
        "<a href=\"https://colab.research.google.com/github/cipodu/research/blob/main/research/A_Proposal_for_a_System_to_Monitor_Worl%E2%80%99s_Technology_%26_Science.ipynb\" target=\"_parent\"><img src=\"https://colab.research.google.com/assets/colab-badge.svg\" alt=\"Open In Colab\"/></a>"
      ]
    },
    {
      "cell_type": "markdown",
      "source": [
        "#  Propuesta Sistema Monitoreo Ciencia y Tecnología"
      ],
      "metadata": {
        "id": "pX3InHhtUWac"
      }
    }
  ]
}