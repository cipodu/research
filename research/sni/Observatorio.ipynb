{
  "nbformat": 4,
  "nbformat_minor": 0,
  "metadata": {
    "colab": {
      "provenance": [],
      "authorship_tag": "ABX9TyMeg8/PKJINk8/lQQsOj+V4",
      "include_colab_link": true
    },
    "kernelspec": {
      "name": "python3",
      "display_name": "Python 3"
    },
    "language_info": {
      "name": "python"
    }
  },
  "cells": [
    {
      "cell_type": "markdown",
      "metadata": {
        "id": "view-in-github",
        "colab_type": "text"
      },
      "source": [
        "<a href=\"https://colab.research.google.com/github/cipodu/research/blob/main/research/sni/Observatorio.ipynb\" target=\"_parent\"><img src=\"https://colab.research.google.com/assets/colab-badge.svg\" alt=\"Open In Colab\"/></a>"
      ]
    },
    {
      "cell_type": "markdown",
      "source": [
        "# Observatorio"
      ],
      "metadata": {
        "id": "28IGQSVLXYv2"
      }
    },
    {
      "cell_type": "markdown",
      "source": [
        "- Research the Necessities of Industry\n",
        "- Research the Necessities of Society\n",
        "- Match: Problem → Lab → Commercialization\n",
        "- Oberbatorio Capacidades Tecnnicas & Cientificas Sector Privado.\n",
        "- Observatorio Ciencia Amater\n",
        "\n",
        " Teams Engage in Science and Technology\n",
        "\n",
        "- **Observatory**:\n",
        "    - Gather data, study the NIS, and improve the NIS.\n",
        "    - Advice on Solving Society Problems with Science and Tech\n",
        "    - **Capability Research (Science and Tech)**\n",
        "        - Productivity\n",
        "        - Value Chains  Mapping\n",
        "        - Monitor Science and Tech Around the Glove\n",
        "        - …\n",
        "    - Market Research"
      ],
      "metadata": {
        "id": "J6f15enpXVcw"
      }
    },
    {
      "cell_type": "markdown",
      "source": [
        "## References\n",
        "\n",
        "**Surveys:**\n",
        "\n",
        "- **National Innovations Surveys / Firms** - See  Reports on R&D/Innovation Surveys Year 1999, 2001, 2003, 2008 by National Science and Technology Development Agency (NSTDA) and Report on R&D/Innovation Survey by National Science, Technology and Innovation Policy Office.\n",
        "- Firm Innovation Capacity"
      ],
      "metadata": {
        "id": "mcs6DaPOXc-j"
      }
    }
  ]
}