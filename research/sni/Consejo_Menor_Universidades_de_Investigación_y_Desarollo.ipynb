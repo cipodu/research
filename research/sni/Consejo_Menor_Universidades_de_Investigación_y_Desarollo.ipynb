{
  "nbformat": 4,
  "nbformat_minor": 0,
  "metadata": {
    "colab": {
      "provenance": [],
      "authorship_tag": "ABX9TyNPzBtbGQ5ov0s2oh2Ybfqg",
      "include_colab_link": true
    },
    "kernelspec": {
      "name": "python3",
      "display_name": "Python 3"
    },
    "language_info": {
      "name": "python"
    }
  },
  "cells": [
    {
      "cell_type": "markdown",
      "metadata": {
        "id": "view-in-github",
        "colab_type": "text"
      },
      "source": [
        "<a href=\"https://colab.research.google.com/github/cipodu/research/blob/main/research/sni/Consejo_Menor_Universidades_de_Investigaci%C3%B3n_y_Desarollo.ipynb\" target=\"_parent\"><img src=\"https://colab.research.google.com/assets/colab-badge.svg\" alt=\"Open In Colab\"/></a>"
      ]
    },
    {
      "cell_type": "markdown",
      "source": [
        "# Consejo Menor Universidades de Investigación y Desarollo"
      ],
      "metadata": {
        "id": "ZCsN4FEA7KG8"
      }
    }
  ]
}