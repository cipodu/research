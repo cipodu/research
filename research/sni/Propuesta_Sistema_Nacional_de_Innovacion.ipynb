{
  "nbformat": 4,
  "nbformat_minor": 0,
  "metadata": {
    "colab": {
      "provenance": [],
      "authorship_tag": "ABX9TyPiGs8E+plYzk7cuvKVzAUA",
      "include_colab_link": true
    },
    "kernelspec": {
      "name": "python3",
      "display_name": "Python 3"
    },
    "language_info": {
      "name": "python"
    }
  },
  "cells": [
    {
      "cell_type": "markdown",
      "metadata": {
        "id": "view-in-github",
        "colab_type": "text"
      },
      "source": [
        "<a href=\"https://colab.research.google.com/github/cipodu/research/blob/main/research/sni/Propuesta_Sistema_Nacional_de_Innovacion.ipynb\" target=\"_parent\"><img src=\"https://colab.research.google.com/assets/colab-badge.svg\" alt=\"Open In Colab\"/></a>"
      ]
    },
    {
      "cell_type": "markdown",
      "source": [
        "# Consejo Nacional de Asuntos Tecnocientíficos"
      ],
      "metadata": {
        "id": "7ekLE8ksFoES"
      }
    },
    {
      "cell_type": "markdown",
      "source": [
        "> **Órgano** dedicado al **diseño** y **monitoreo** de políticas en ciencias básicas y aplicadas, con el propósito de diversificar y sofisticar el aparato productivo, guiándose por la visión estratégica nacional para la investigación y el desarrollo tecnológico y científico."
      ],
      "metadata": {
        "id": "D9_6ljsjV8Je"
      }
    },
    {
      "cell_type": "markdown",
      "source": [
        "## Organización (Politicas)\n",
        "\n",
        "- <a href=\"https://nbsanity.com/cipodu/research/blob/main/research/sni/Patronato.ipynb\" target=\"_blank\"> Patronato </a>\n",
        "\n",
        "- <a href=\"https://nbsanity.com/cipodu/research/blob/main/research/sni/Observatorio.ipynb\" target=\"_blank\"> Observatorio </a>\n",
        "\n",
        "- <a href=\"https://nbsanity.com/cipodu/research/blob/main/research/sni/Control.ipynb\" target=\"_blank\"> Control </a>\n",
        "\n",
        "- Consejos Menores\n",
        "  - Consejo Menor de Proyectos Estratégicos\n",
        "  - <a href=\"https://nbsanity.com/cipodu/research/blob/main/research/sni/Consejo_Menor_Universidades_de_Investigaci%C3%B3n_y_Desarollo.ipynb\" target=\"\"> Consejo Menor Universidades de Investigación y Desarollo </a>\n"
      ],
      "metadata": {
        "id": "o4qv5VlfWQwu"
      }
    },
    {
      "cell_type": "markdown",
      "source": [
        "## Agencias (Mecanismos)\n",
        "\n",
        "- <a href=\"https://nbsanity.com/cipodu/research/blob/main/agency/sni/cienceria/Observatory.ipynb\" target=\"_blank\">  Cienceria </a>\n",
        "- <a href=\"https://nbsanity.com/cipodu/research/blob/main/agency/sni/Agrideria.ipynb\" target=\"_blank\">  Agrideria </a>\n",
        "- <a href=\"https://nbsanity.com/cipodu/research/blob/main/agency/sni/energeria/Observatorio.ipynb\" target=\"_blank\">  Energeria </a>\n",
        "- <a href=\"https://nbsanity.com/cipodu/research/blob/main/agency/sni/Saluderia.ipynb\" target=\"_blank\">  Saluderia </a>\n",
        "- <a href=\"https://nbsanity.com/cipodu/research/blob/main/agency/sni/Servideria.ipynb\" target=\"_blank\">  Servideria </a>\n",
        "- <a href=\"https://nbsanity.com/cipodu/research/blob/main/agency/sni/Espacieria.ipynb\" target=\"_blank\">  Espacieria </a>\n",
        "- <a href=\"https://nbsanity.com/cipodu/research/blob/main/agency/sni/Metrologia.ipynb\" target=\"_blank\">  Metrologia </a>\n",
        "- <a href=\"https://nbsanity.com/cipodu/research/blob/main/agency/sni/Defenseria.ipynb\" target=\"_blank\">  Defenseria </a>\n",
        "- <a href=\"https://nbsanity.com/cipodu/research/blob/main/agency/sni/tecnoderia/Obervatorio.ipynb\" target=\"_blank\">  Tecnoderia </a>\n",
        "- <a href=\"https://nbsanity.com/cipodu/research/blob/main/agency/sni/Gubernandi.ipynb\" target=\"_blank\">  Gubernandi </a>\n",
        "- <a href=\"https://nbsanity.com/cipodu/research/blob/main/agency/sni/Computaderia.ipynb\" target=\"_blank\">  Computaderia </a>\n",
        "- <a href=\"https://nbsanity.com/cipodu/research/blob/main/agency/sni/Laboratorio_Mayor_de_Proyectos_Avanzados.ipynb\" target=\"_blank\">  Laboratorio Mayor de Proyectos Avanzados </a>\n",
        "- <a href=\"https://nbsanity.com/cipodu/research/blob/main/agency/sni/Laboratorio_Mayor_Politicas_Tecnocient%C3%ADficas.ipynb\" target=\"_blank\">  Laboratorio Mayor Politicas Tecnocientíficas </a>"
      ],
      "metadata": {
        "id": "ijRjda7UWN6G"
      }
    },
    {
      "cell_type": "markdown",
      "source": [
        "## Referencias\n",
        "\n",
        "- Market Research Business https://business.yougov.com/\n",
        "- [Research university](https://en.wikipedia.org/wiki/Research_university)\n",
        "- [Research Council of Finland](https://www.aka.fi/en/)\n",
        "- [Investigación, desarrollo e innovación](https://es.wikipedia.org/wiki/Investigaci%C3%B3n,_desarrollo_e_innovaci%C3%B3n)\n",
        "- Griffin, Abbie, and John R. Hauser. \"Integrating R&D and marketing: A review and analysis of the literature.\" *Journal of Product Innovation Management: An International Publication of the Product Development & Management Association* 13.3 (1996): 191-215.\n",
        "- Intarakumnerd, Patarapong, and Akira Goto. \"Role of public research institutes in national innovation systems in industrialized countries:  The cases of Fraunhofer, NIST, CSIRO, AIST, and ITRI.\" *Research Policy* 47.7 (2018): 1309-1320.\n",
        "- Intarakumnerd, Patarapong, and Pun-arj Chairatana. \"Shifting S&T policy paradigm: an experience of an RTO in Thailand.\" *International Journal of Technology and Globalisation* 4.2 (2008): 121-138.\n",
        "- Lundvall, Bengt-Åke, et al. \"Asia’s innovation systems in transition: An introduction.\" *Asia’s innovation system in transition* (2006): 1-20.\n",
        "- Intarakumnerd, P., and T. Virasa. \"Government policies and measures in\n",
        "supporting technological capability development of latecomer firms: a\n",
        "tentative taxonomy.\" *Asian Journal of Technology Innovation* 12.2 (2004): 1-19.\n",
        "- Intarakumnerd, Patarapong, and Thanaphol Virasa. \"Broader roles of RTOs\n",
        "in developing countries: from knowledge-creators to strengtheners of\n",
        "national innovation system.\" *Science, Technology and Innovation Conference, JFK School of government, Harvard University*. 2002.\n",
        "- Intarakumnerd, Patarapong, et al. \"Successes and Failures of an\n",
        "Intermediary in Triple Helix Relationships in Developing Countries: the\n",
        "Case of Thailand’s Food Industry.\" *Book of Abstracts*. 2010.\n",
        "- Intarakumnerd, Patarapong, and Cristina Chaminade. \"Innovation policies in Thailand: towards a system of innovation approach?.\" *Asia Pacific Business Review* 17.02 (2011): 241-256.\n",
        "- Intarakumnerd, Patarapong, and Akira Goto. \"Technology and Innovation Policies for SMEs in East Asia.\" *SMEs* (2016): 24.\n",
        "- Intarakumnerd, Patarapong, and Kasititorn Pooparadai. \"Innovation System for ICT: The Case of Thailand'.\" *Bridging the digital divide: innovation systems for ICT in Brazil, China, India, Thailand and Southern Africa* (2006): 153.\n",
        "- Intarakumnerd, Patarapong, Richard F. Doner, and Bryan K. Ritchie.\n",
        "\"Universities in Thailand’s national innovation system: Their\n",
        "contributions on industrial and technological upgrading 1.\" *Universities in the National Innovation Systems*. Routledge India, 2017. 305-327.\n",
        "- Intarakumnerd, Patarapong, Nathasit Gerdsri, and P. H. D. PARD TEEKASAP.\n",
        " \"Enhancing Innovation Capability Using Local Universities and Public\n",
        "Research Institutes as External Resources: Thailand’s Experiences.\" *EXTERNAL RESOURCES FOR FIRMS’INNOVATION* (2011): 1.\n",
        "- Cohen, Wesley M., Richard R. Nelson, and John P. Walsh. \"Links and impacts: the influence of public research on industrial R&D.\" Management science 48.1 (2002): 1-23.\n",
        "- Cohen, Wesley M., et al. \"R&D spillovers, patents and the incentives to innovate in Japan and the United States.\" Research policy 31.8-9 (2002): 1349-1367.\n",
        "- Boeing, Philipp, and Paul Hünermund. \"A global decline in research productivity? Evidence from China and Germany.\" Economics Letters 197 (2020): 109646.\n",
        "Boeing,\n",
        "- Champenois, C., & Etzkowitz, H. (2018). From boundary line to boundary space: The creation of hybrid organizations as a Triple Helix micro-foundation. Technovation, 76, 28–39.\n",
        "- Etzkowitz, H. (2003). Research groups as ‘quasi-firms’: the invention of the entrepreneurial university. 32(1), 109–121.\n",
        "- New innovation approaches to support the implementation of the Sustainable Development Goals\n",
        "- Sustaining public sector capability in developing countries - - Bibliography and literature reviews - 10178.pdf\n",
        "- Building the Entrepreneurial State: A New Framework for Envisioning and Evaluating a Mission-oriented Public Sector - wp_824.pdf\n",
        "- Systems of innovation: technologies, institutions, and organizations by Charles Edquist\n",
        "- Reorganising global value chains and building innovation capabilities in Brazil and India in Research Policy - by Rasmus Lema; Ruy Quadros; Hubert Schmitz\n",
        "- Technology innovation and entrepreneurial state: the development of China's high-speed rail industry - by Zhe Sun\n",
        "- Three frames for innovation policy: R&D, systems of innovation and transformative change - by Johan Schot; W. Edward Steinmueller\n",
        "- Triple Helix indicators of knowledge-based innovation systems - by Loet Leydesdorff; Martin Meyer\n",
        "- Intarakumnerd, Patarapong. \"Two models of research technology organisations in Asia.\" *Science, Technology and Society* 16.1 (2011): 11-28.\n",
        "- Etzkowitz, Henry. \"Research groups as ‘quasi-firms’: the invention of the entrepreneurial university.\" Research policy 32.1 (2003): 109-121.\n",
        "- [Public Scientific and Technical Research Establishment](https://en.wikipedia.org/wiki/Public_Scientific_and_Technical_Research_Establishment)"
      ],
      "metadata": {
        "id": "5rrSR5CYWJoj"
      }
    }
  ]
}