{
  "nbformat": 4,
  "nbformat_minor": 0,
  "metadata": {
    "colab": {
      "provenance": [],
      "authorship_tag": "ABX9TyNKx6ZkTFiBrBPQJhmMDYUR",
      "include_colab_link": true
    },
    "kernelspec": {
      "name": "python3",
      "display_name": "Python 3"
    },
    "language_info": {
      "name": "python"
    }
  },
  "cells": [
    {
      "cell_type": "markdown",
      "metadata": {
        "id": "view-in-github",
        "colab_type": "text"
      },
      "source": [
        "<a href=\"https://colab.research.google.com/github/cipodu/research/blob/main/research/sni/Propuesta_Sistema_Nacional_de_Innovacion.ipynb\" target=\"_parent\"><img src=\"https://colab.research.google.com/assets/colab-badge.svg\" alt=\"Open In Colab\"/></a>"
      ]
    },
    {
      "cell_type": "markdown",
      "source": [
        "# Consejo Nacional de Asuntos Tecnocientíficos"
      ],
      "metadata": {
        "id": "7ekLE8ksFoES"
      }
    },
    {
      "cell_type": "markdown",
      "source": [
        "> Consejo Nacional de Asuntos Tecnocientíficos.\n",
        "\n",
        "> Organo de diseño de opliticas de ciencias básicas y aplicadas.\n",
        "\n",
        "> **Objetivo**: Adoptar, localizar, investigar y detallar tecnología crítica para el crecimiento económico de la patria."
      ],
      "metadata": {
        "id": "D9_6ljsjV8Je"
      }
    },
    {
      "cell_type": "markdown",
      "source": [
        "## Services\n",
        "\n",
        "> **Research centers** offer various services across different domains, catering to the needs of industries, academia, and society.\n",
        ">\n",
        "\n",
        "Here is a list of **common types of services** that research centers may offer:\n",
        "\n",
        "1. **Research and Development (R&D) Services:** Conducting fundamental and applied research in various scientific and technological fields.\n",
        "2. **Technical Consultancy: E**xpertise and advice on technical issues, problem-solving, and innovation.\n",
        "3. **Laboratory Testing and Analysis:** Conduct experiments and test materials and analyze data in specialized laboratories.\n",
        "4. **Product Development Support:** Assisting businesses in developing and improving products or processes.\n",
        "5. **Training and Capacity Building:** Offering workshops, courses, and training programs to enhance skills and knowledge in specific areas.\n",
        "6. **Technology Transfer:** Facilitating technology and knowledge transfer from research institutions to industries or other organizations.\n",
        "7. **Prototyping and Modeling:** Creating prototypes and models to test and visualize new concepts or products.\n",
        "8. **Market Research:** Conduct studies to gather information on market trends, consumer behavior, and industry insights.\n",
        "9. **Policy Analysis and Advice:** Providing expertise to policymakers by analyzing data and offering recommendations on relevant issues.\n",
        "10. **Data Management and Analysis:** Assisted in collecting, managing, and analyzing data for research purposes.\n",
        "11. **Environmental Impact Assessments:** Evaluating the potential environmental impact of projects, policies, or developments.\n",
        "12. **Standardization and Quality Control:** Developing and implementing standards for products and services and ensuring quality control.\n",
        "13. **Customized Research Projects:** Undertaking specific research projects tailored to the needs of clients or collaborators.\n",
        "14. **Innovation and Entrepreneurship Support:** Supporting startups and entrepreneurs in developing and commercializing innovative ideas.\n",
        "15. **Collaborative Research Initiatives:** Participating in collaborative projects with other research institutions, industries, and government agencies.\n",
        "16. **Public Outreach and Education Programs:** Engaging with the public through educational programs, science communication, and outreach activities.\n",
        "17. **Intellectual Property Services:** Assisting in the protection, management, and commercialization of intellectual property, including patents and copyrights.\n",
        "18. **Event Hosting and Conferences:** Hosting conferences, seminars, and events to facilitate knowledge sharing and networking.\n",
        "19. Create new industries\n",
        "20. Adopt / Master existing technologies.\n"
      ],
      "metadata": {
        "id": "5j6mpH_JWU2W"
      }
    },
    {
      "cell_type": "markdown",
      "source": [
        "## Organization (Policy)\n",
        "\n",
        "> <Speak about the model>\n",
        "\n",
        "- <a href=\"https://nbsanity.com/cipodu/research/blob/main/research/sni/Patronato.ipynb\" target=\"_blank\"> Patronato </a>\n",
        "\n",
        "- <a href=\"https://nbsanity.com/cipodu/research/blob/main/research/sni/Observatorio.ipynb\" target=\"_blank\"> Observatorio </a>\n",
        "\n",
        "- <a href=\"https://nbsanity.com/cipodu/research/blob/main/research/sni/Control.ipynb\" target=\"_blank\"> Control </a>\n",
        "\n",
        "- Consejos Menores\n",
        "  - Minor Council of Projects\n",
        "  - Minor Council of Health Research\n",
        "  - Minor Council of Energy Research\n",
        "  - Minor Council of Defense Research\n",
        "  - Minor Council of Service Research\n",
        "  - Minor Council of Technical Research\n",
        "  - Minor Council of Agricultural Research\n",
        "  - Minor Council of Fundamental Research\n",
        "  - Minor Council of Metrology and Standards\n",
        "  - Minor Council of Public Administration Research\n",
        "  - <a href=\"https://nbsanity.com/cipodu/research/blob/main/research/sni/Consejo_Menor_Universidades_de_Investigaci%C3%B3n_y_Desarollo.ipynb\" target=\"\"> Consejo Menor Universidades de Investigación y Desarollo </a>\n"
      ],
      "metadata": {
        "id": "o4qv5VlfWQwu"
      }
    },
    {
      "cell_type": "markdown",
      "source": [
        "## Agencies (Mechanism)\n",
        "\n",
        "\n",
        "- <a href=\"https://nbsanity.com/cipodu/research/blob/main/agency/sni/Cienceria.ipynb\" target=\"_blank\">  Cienceria </a>\n",
        "\n",
        "- <a href=\"https://nbsanity.com/cipodu/research/blob/main/agency/sni/Agrideria.ipynb\" target=\"_blank\">  Agrideria </a>\n",
        "\n",
        "- <a href=\"https://nbsanity.com/cipodu/research/blob/main/agency/sni/Energeria.ipynb\" target=\"_blank\">  Energeria </a>\n",
        "\n",
        "- <a href=\"https://nbsanity.com/cipodu/research/blob/main/agency/sni/Saluderia.ipynb\" target=\"_blank\">  Saluderia </a>\n",
        "\n",
        "- <a href=\"https://nbsanity.com/cipodu/research/blob/main/agency/sni/Servideria.ipynb\" target=\"_blank\">  Servideria </a>\n",
        "\n",
        "- <a href=\"https://nbsanity.com/cipodu/research/blob/main/agency/sni/Metrologia.ipynb\" target=\"_blank\">  Metrologia </a>\n",
        "\n",
        "- <a href=\"https://nbsanity.com/cipodu/research/blob/main/agency/sni/Defenseria.ipynb\" target=\"_blank\">  Defenseria </a>\n",
        "\n",
        "- <a href=\"https://nbsanity.com/cipodu/research/blob/main/agency/sni/Espacieria.ipynb\" target=\"_blank\">  Espacieria </a>\n",
        "\n",
        "- <a href=\"https://nbsanity.com/cipodu/research/blob/main/agency/sni/tecnoderia/Tecnoderia.ipynb\" target=\"_blank\">  Tecnoderia </a>\n",
        "\n",
        "- <a href=\"https://nbsanity.com/cipodu/research/blob/main/agency/sni/Gubernandi.ipynb\" target=\"_blank\">  Gubernandi </a>\n",
        "\n",
        "- <a href=\"https://nbsanity.com/cipodu/research/blob/main/agency/sni/Computaderia.ipynb\" target=\"_blank\">  Computaderia </a>\n",
        "\n",
        "- <a href=\"https://nbsanity.com/cipodu/research/blob/main/agency/sni/Laboratorio_Mayor_de_Proyectos_Avanzados.ipynb\" target=\"_blank\">  Laboratorio Mayor de Proyectos Avanzados </a>\n",
        "\n",
        "- <a href=\"https://nbsanity.com/cipodu/research/blob/main/agency/sni/Laboratorio_Mayor_Politicas_Tecnocient%C3%ADficas.ipynb\" target=\"_blank\">  Laboratorio Mayor Politicas Tecnocientíficas </a>"
      ],
      "metadata": {
        "id": "ijRjda7UWN6G"
      }
    },
    {
      "cell_type": "markdown",
      "source": [
        "## References\n",
        "\n",
        "- Market Research Business https://business.yougov.com/\n",
        "- [Research university](https://en.wikipedia.org/wiki/Research_university)\n",
        "- [Research Council of Finland](https://www.aka.fi/en/)\n",
        "- [Investigación, desarrollo e innovación](https://es.wikipedia.org/wiki/Investigaci%C3%B3n,_desarrollo_e_innovaci%C3%B3n)\n",
        "- Griffin, Abbie, and John R. Hauser. \"Integrating R&D and marketing: A review and analysis of the literature.\" *Journal of Product Innovation Management: An International Publication of the Product Development & Management Association* 13.3 (1996): 191-215.\n",
        "- Intarakumnerd, Patarapong, and Akira Goto. \"Role of public research institutes in national innovation systems in industrialized countries:  The cases of Fraunhofer, NIST, CSIRO, AIST, and ITRI.\" *Research Policy* 47.7 (2018): 1309-1320.\n",
        "- Intarakumnerd, Patarapong, and Pun-arj Chairatana. \"Shifting S&T policy paradigm: an experience of an RTO in Thailand.\" *International Journal of Technology and Globalisation* 4.2 (2008): 121-138.\n",
        "- Lundvall, Bengt-Åke, et al. \"Asia’s innovation systems in transition: An introduction.\" *Asia’s innovation system in transition* (2006): 1-20.\n",
        "- Intarakumnerd, P., and T. Virasa. \"Government policies and measures in\n",
        "supporting technological capability development of latecomer firms: a\n",
        "tentative taxonomy.\" *Asian Journal of Technology Innovation* 12.2 (2004): 1-19.\n",
        "- Intarakumnerd, Patarapong, and Thanaphol Virasa. \"Broader roles of RTOs\n",
        "in developing countries: from knowledge-creators to strengtheners of\n",
        "national innovation system.\" *Science, Technology and Innovation Conference, JFK School of government, Harvard University*. 2002.\n",
        "- Intarakumnerd, Patarapong, et al. \"Successes and Failures of an\n",
        "Intermediary in Triple Helix Relationships in Developing Countries: the\n",
        "Case of Thailand’s Food Industry.\" *Book of Abstracts*. 2010.\n",
        "- Intarakumnerd, Patarapong, and Cristina Chaminade. \"Innovation policies in Thailand: towards a system of innovation approach?.\" *Asia Pacific Business Review* 17.02 (2011): 241-256.\n",
        "- Intarakumnerd, Patarapong, and Akira Goto. \"Technology and Innovation Policies for SMEs in East Asia.\" *SMEs* (2016): 24.\n",
        "- Intarakumnerd, Patarapong, and Kasititorn Pooparadai. \"Innovation System for ICT: The Case of Thailand'.\" *Bridging the digital divide: innovation systems for ICT in Brazil, China, India, Thailand and Southern Africa* (2006): 153.\n",
        "- Intarakumnerd, Patarapong, Richard F. Doner, and Bryan K. Ritchie.\n",
        "\"Universities in Thailand’s national innovation system: Their\n",
        "contributions on industrial and technological upgrading 1.\" *Universities in the National Innovation Systems*. Routledge India, 2017. 305-327.\n",
        "- Intarakumnerd, Patarapong, Nathasit Gerdsri, and P. H. D. PARD TEEKASAP.\n",
        " \"Enhancing Innovation Capability Using Local Universities and Public\n",
        "Research Institutes as External Resources: Thailand’s Experiences.\" *EXTERNAL RESOURCES FOR FIRMS’INNOVATION* (2011): 1.\n",
        "- Cohen, Wesley M., Richard R. Nelson, and John P. Walsh. \"Links and impacts: the influence of public research on industrial R&D.\" Management science 48.1 (2002): 1-23.\n",
        "- Cohen, Wesley M., et al. \"R&D spillovers, patents and the incentives to innovate in Japan and the United States.\" Research policy 31.8-9 (2002): 1349-1367.\n",
        "- Boeing, Philipp, and Paul Hünermund. \"A global decline in research productivity? Evidence from China and Germany.\" Economics Letters 197 (2020): 109646.\n",
        "Boeing,\n",
        "- Champenois, C., & Etzkowitz, H. (2018). From boundary line to boundary space: The creation of hybrid organizations as a Triple Helix micro-foundation. Technovation, 76, 28–39.\n",
        "- Etzkowitz, H. (2003). Research groups as ‘quasi-firms’: the invention of the entrepreneurial university. 32(1), 109–121.\n",
        "- New innovation approaches to support the implementation of the Sustainable Development Goals\n",
        "- Sustaining public sector capability in developing countries - - Bibliography and literature reviews - 10178.pdf\n",
        "- Building the Entrepreneurial State: A New Framework for Envisioning and Evaluating a Mission-oriented Public Sector - wp_824.pdf\n",
        "- Systems of innovation: technologies, institutions, and organizations by Charles Edquist\n",
        "- Reorganising global value chains and building innovation capabilities in Brazil and India in Research Policy - by Rasmus Lema; Ruy Quadros; Hubert Schmitz\n",
        "- Technology innovation and entrepreneurial state: the development of China's high-speed rail industry - by Zhe Sun\n",
        "- Three frames for innovation policy: R&D, systems of innovation and transformative change - by Johan Schot; W. Edward Steinmueller\n",
        "- Triple Helix indicators of knowledge-based innovation systems - by Loet Leydesdorff; Martin Meyer\n",
        "- Intarakumnerd, Patarapong. \"Two models of research technology organisations in Asia.\" *Science, Technology and Society* 16.1 (2011): 11-28.\n",
        "- Etzkowitz, Henry. \"Research groups as ‘quasi-firms’: the invention of the entrepreneurial university.\" Research policy 32.1 (2003): 109-121.\n",
        "- [Public Scientific and Technical Research Establishment](https://en.wikipedia.org/wiki/Public_Scientific_and_Technical_Research_Establishment)"
      ],
      "metadata": {
        "id": "5rrSR5CYWJoj"
      }
    }
  ]
}