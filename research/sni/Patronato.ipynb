{
  "nbformat": 4,
  "nbformat_minor": 0,
  "metadata": {
    "colab": {
      "provenance": [],
      "authorship_tag": "ABX9TyNT4xlsNvs55EwqphbStkuQ",
      "include_colab_link": true
    },
    "kernelspec": {
      "name": "python3",
      "display_name": "Python 3"
    },
    "language_info": {
      "name": "python"
    }
  },
  "cells": [
    {
      "cell_type": "markdown",
      "metadata": {
        "id": "view-in-github",
        "colab_type": "text"
      },
      "source": [
        "<a href=\"https://colab.research.google.com/github/cipodu/research/blob/main/research/sni/Patronato.ipynb\" target=\"_parent\"><img src=\"https://colab.research.google.com/assets/colab-badge.svg\" alt=\"Open In Colab\"/></a>"
      ]
    },
    {
      "cell_type": "markdown",
      "source": [
        "# Patronato\n",
        "\n",
        "> An observatory of the national **R&D** system is a dedicated institution or mechanism that systematically monitors, analyzes, and reports on the activities, trends, and performance of the country's research and development ecosystem, providing valuable insights for policy-making and strategic planning.\n",
        ">\n",
        "\n",
        "> Maestrepatrono:  Prior"
      ],
      "metadata": {
        "id": "hMKMD4AHXFHJ"
      }
    }
  ]
}