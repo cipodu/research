{
  "nbformat": 4,
  "nbformat_minor": 0,
  "metadata": {
    "colab": {
      "provenance": [],
      "authorship_tag": "ABX9TyNwTgkfr8m3bTSTjbbU+82D",
      "include_colab_link": true
    },
    "kernelspec": {
      "name": "python3",
      "display_name": "Python 3"
    },
    "language_info": {
      "name": "python"
    }
  },
  "cells": [
    {
      "cell_type": "markdown",
      "metadata": {
        "id": "view-in-github",
        "colab_type": "text"
      },
      "source": [
        "<a href=\"https://colab.research.google.com/github/cipodu/research/blob/main/research/Plan_de_Mejoras_y_Reformas_del_Estado_Dominicano.ipynb\" target=\"_parent\"><img src=\"https://colab.research.google.com/assets/colab-badge.svg\" alt=\"Open In Colab\"/></a>"
      ]
    },
    {
      "cell_type": "markdown",
      "source": [
        "# Poder Ejecutivo: República Dominicana 2.0"
      ],
      "metadata": {
        "id": "J00_s2I3GgYl"
      }
    },
    {
      "cell_type": "markdown",
      "source": [
        "> Separate policy (council) from implementation(mechanism) (agencies).\n",
        "\n",
        "> **Council**: Design Policies; Make decisions, Each with an Observatory.\n",
        "\n",
        "## Consejos\n",
        "\n",
        "- <a href=\"https://github.com/cipodu/research/blob/main/research/cm/Patronato.ipynb\" target=\"_blank\"> Consejo Mayor </a>\n",
        "\n",
        "- <a href=\"https://github.com/cipodu/research/blob/main/research/hacienda/Patronato.ipynb\" target=\"_blank\"> Consejo Nacional de Hacienda </a>\n",
        "\n",
        "- <a href=\"https://github.com/cipodu/research/blob/main/research/propiedad/Patronato.ipynb\" target=\"_blank\"> Consejo Nacional de Patrimonio </a>\n",
        "\n",
        "- <a href=\"https://github.com/cipodu/research/blob/main/research/oficios/Patronato.ipynb\" target=\"_blank\"> Consejo Nacional de Artes y Oficios </a>\n",
        "\n",
        "- <a href=\"https://github.com/cipodu/research/blob/main/research/legal/Patronato.ipynb\" target=\"_blank\"> Consejo Nacional de Asuntos Legales </a>\n",
        "\n",
        "- <a href=\"https://github.com/cipodu/research/blob/main/research/social/Patronato.ipynb\" target=\"_blank\"> Consejo Nacional de Asuntos Sociales </a>\n",
        "\n",
        "- <a href=\"https://github.com/cipodu/research/blob/main/research/ae/Patronato.ipynb\" target=\"_blank\"> Consejo Nacional de Asuntos Externos </a>\n",
        "\n",
        "- <a href=\"https://github.com/cipodu/research/blob/main/research/salud/Patronato.ipynb\" target=\"_blank\"> Consejo Nacional de Asuntos de Salud </a>\n",
        "\n",
        "- <a href=\"https://github.com/cipodu/research/blob/main/research/servicio/Patronato.ipynb\" target=\"_blank\"> Consejo Nacional de Servicios Públicos </a>\n",
        "\n",
        "- <a href=\"https://github.com/cipodu/research/blob/main/research/educacion/Patronato.ipynb\" target=\"_blank\"> Consejo Nacional de Asuntos Educativos </a>\n",
        "\n",
        "- <a href=\"https://github.com/cipodu/research/blob/main/research/servidores/Patronato.ipynb\" target=\"_blank\"> Consejo Nacional de Servidores Públicos </a>\n",
        "\n",
        "- <a href=\"https://github.com/cipodu/research/blob/main/research/economia/Patronato.ipynb\" target=\"_blank\"> Consejo Nacional de Asuntos Economicos </a>\n",
        "\n",
        "- <a href=\"https://github.com/cipodu/research/blob/main/research/estrategia/Patronato.ipynb\" target=\"_blank\"> Consejo Nacional de Asuntos Estrategicos </a>\n",
        "\n",
        "- <a href=\"https://github.com/cipodu/research/blob/main/research/seguridad/Patronato.ipynb\" target=\"_blank\"> Consejo Nacional de Asuntos de Seguridad  </a>\n",
        "\n",
        "- <a href=\"https://github.com/cipodu/research/blob/main/research/sni/Patronato.ipynb\" target=\"_blank\"> Consejo Nacional de Asuntos Tecnocientíficos </a>\n",
        "\n",
        "- <a href=\"https://www.notion.so/National-Council-of-Infrastructure-Affairs-fad086821e884927a1cd487eb954be6c\" target=\"_blank\"> Consejo Nacional de Asuntos de Infraestructura </a>"
      ],
      "metadata": {
        "id": "XShQHmMdGlUq"
      }
    },
    {
      "cell_type": "markdown",
      "source": [
        "# Agencias\n",
        "\n",
        "<div style=\"text-align: left;\">\n",
        "\n",
        "| Agencia | Consejo | Consejo Menor |\n",
        "|---------|---------|---------------|\n",
        "| Escuela Mayor Ars Urbs | Default | Default       |\n",
        "| Escuela Mayor Ars Deporti | Default | Default       |\n",
        "| Escuela Mayor Ars Medica | Default | Default       |\n",
        "| Escuela Mayor Ars Tecnica | Default | Default       |\n",
        "| Escuela Mayor Ars Agrícola | Default | Default       |\n",
        "| Escuela Mayor Ars Educandi | Default | Default       |\n",
        "| Escuela Mayor Ars Gubernandi | Default | Default       |\n",
        "| Universidad Santo Tomas de Aquino | .. | ..       |\n",
        "| Escuela Mayor  de Ingenieros Militares | .. | ..       |\n",
        "| .. | .. | ..       |\n",
        "\n",
        "</div>"
      ],
      "metadata": {
        "id": "dAvOSP8xTuiN"
      }
    },
    {
      "cell_type": "markdown",
      "source": [
        "# References\n",
        "\n"
      ],
      "metadata": {
        "id": "WXWh-BvfpnWd"
      }
    }
  ]
}