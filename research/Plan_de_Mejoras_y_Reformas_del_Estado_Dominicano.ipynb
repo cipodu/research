{
  "nbformat": 4,
  "nbformat_minor": 0,
  "metadata": {
    "colab": {
      "provenance": [],
      "authorship_tag": "ABX9TyOiVQdznTvkRgkZ4aj8C6m3",
      "include_colab_link": true
    },
    "kernelspec": {
      "name": "python3",
      "display_name": "Python 3"
    },
    "language_info": {
      "name": "python"
    }
  },
  "cells": [
    {
      "cell_type": "markdown",
      "metadata": {
        "id": "view-in-github",
        "colab_type": "text"
      },
      "source": [
        "<a href=\"https://colab.research.google.com/github/cipodu/research/blob/main/research/Plan_de_Mejoras_y_Reformas_del_Estado_Dominicano.ipynb\" target=\"_parent\"><img src=\"https://colab.research.google.com/assets/colab-badge.svg\" alt=\"Open In Colab\"/></a>"
      ]
    },
    {
      "cell_type": "markdown",
      "source": [
        "# Poder Ejecutivo: República Dominicana 2.0"
      ],
      "metadata": {
        "id": "J00_s2I3GgYl"
      }
    },
    {
      "cell_type": "markdown",
      "source": [
        "> Separate policy (council) from implementation(mechanism) (agencies).\n",
        "\n",
        "> **Council**: Design Policies; Make decisions, Each with an Observatory.\n",
        "\n",
        "## Consejos\n",
        "\n",
        "- [Consejo Mayor](https://www.notion.so/Consejo-Mayor-8b4fd40e1f5a4b958269372d92467ea3?pvs=21)\n",
        "\n",
        "- [National Council of Legal Affairs](https://www.notion.so/National-Council-of-Legal-Affairs-c7759e8bed9940b0b24ef2acdd3ab328?pvs=21)\n",
        "\n",
        "- [National Council of Health Affairs](https://www.notion.so/National-Council-of-Health-Affairs-db9e747d68924e48832c0f88bea04c6f?pvs=21)\n",
        "\n",
        "- [National Council of Social Affairs](https://www.notion.so/National-Council-of-Social-Affairs-03cdc12e284e4c1985a30c4ca8b0a3ed?pvs=21)\n",
        "\n",
        "- [National Council of Public Service](https://www.notion.so/National-Council-of-Public-Service-669b78e62ae441f29c1f104be94be905?pvs=21)\n",
        "\n",
        "- [National Council of Foreign Affairs](https://www.notion.so/National-Council-of-Foreign-Affairs-9f8b56e5d92442e485678ed49618fe81?pvs=21)\n",
        "\n",
        "- [National Council of Security Affairs](https://www.notion.so/National-Council-of-Security-Affairs-76a0768a7fde4a33a7837047cb62e482?pvs=21)\n",
        "\n",
        "- [National Council of Property Rights](https://www.notion.so/National-Council-of-Property-Rights-187ffd8791464445b9dab53dfa172c4a?pvs=21)\n",
        "\n",
        "- [National Council of Economic Affairs](https://www.notion.so/National-Council-of-Economic-Affairs-ff65863af2434067a71be75420737a45?pvs=21)\n",
        "\n",
        "- [National Council of Educational Affairs](https://www.notion.so/National-Council-of-Educational-Affairs-e3dcfe0eb3b543b18b3377c6931a1cfa?pvs=21)\n",
        "\n",
        "- [National Council of Infrastructure Affairs](https://www.notion.so/National-Council-of-Infrastructure-Affairs-fad086821e884927a1cd487eb954be6c?pvs=21)\n",
        "\n",
        "- [National Council of Technoscience Affairs](https://www.notion.so/National-Council-of-Technoscience-Affairs-444a93ceb7b8456bb068ba8d85c5d32e?pvs=21)"
      ],
      "metadata": {
        "id": "XShQHmMdGlUq"
      }
    },
    {
      "cell_type": "markdown",
      "source": [
        "# Agencias\n",
        "\n",
        "\n",
        "| Agencia | Consejo | Consejo Menor |\n",
        "|---------|---------|---------------|\n",
        "| Default | Default | Default       |\n"
      ],
      "metadata": {
        "id": "dAvOSP8xTuiN"
      }
    }
  ]
}