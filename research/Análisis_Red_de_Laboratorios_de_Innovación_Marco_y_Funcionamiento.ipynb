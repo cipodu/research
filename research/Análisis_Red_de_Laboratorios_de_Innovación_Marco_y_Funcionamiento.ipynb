{
  "nbformat": 4,
  "nbformat_minor": 0,
  "metadata": {
    "colab": {
      "provenance": [],
      "authorship_tag": "ABX9TyO8wMOej3x5ZvVzIWjhORhA",
      "include_colab_link": true
    },
    "kernelspec": {
      "name": "python3",
      "display_name": "Python 3"
    },
    "language_info": {
      "name": "python"
    }
  },
  "cells": [
    {
      "cell_type": "markdown",
      "metadata": {
        "id": "view-in-github",
        "colab_type": "text"
      },
      "source": [
        "<a href=\"https://colab.research.google.com/github/cipodu/research/blob/main/research/An%C3%A1lisis_Red_de_Laboratorios_de_Innovaci%C3%B3n_Marco_y_Funcionamiento.ipynb\" target=\"_parent\"><img src=\"https://colab.research.google.com/assets/colab-badge.svg\" alt=\"Open In Colab\"/></a>"
      ]
    },
    {
      "cell_type": "markdown",
      "source": [
        "# Análisis: Red de Laboratorios de Innovación: Marco y Funcionamiento"
      ],
      "metadata": {
        "id": "l0kfPoECeFH3"
      }
    },
    {
      "cell_type": "markdown",
      "source": [
        "Marco:\n",
        "  1. Cáracterizar La Riqueza / Presentar Estrategia Para Lograrla\n",
        "  2. Cáracterizar La Economia Moderna\n",
        "  3. Sobre los Sistemas de Inovación / Reflejar la Importancia del Pensamiento Holistico a la Hora de Diseñar Instituciones\n",
        "\n",
        "## Marco"
      ],
      "metadata": {
        "id": "yaKYkPYisnvN"
      }
    },
    {
      "cell_type": "markdown",
      "source": [
        "¿Qué es la Riqueza de un Pais?\n",
        "\n",
        "> **Riqueza**: La expansción de los bienes y servicos (formas de transformar la naturaleza) y la eficiencia con que se haga es reponsable de la prosperidad de la humanidad.\n",
        "\n",
        "> La producción de bienes se subdivide en fases en las **llamadas cadenas** de valor; a medida que los bienes son **más complejos**, las cadenas de valor tienden a ser más largas.\n",
        "\n",
        ">  La **riqueza** de los países depende de la **eficiencia de la producción** de bienes y servicios, así como de su **naturaleza** (ya sean cadenas de valor cortas o largas) practicadas en su territorio con una intensa participación del **tejido empresarial local**.\n",
        "\n",
        "Ciencia y Tecnología:\n",
        "\n",
        "> Los **nuevas tecnologias** transversales (computación, I.A, etc) y **nueva ciencia** (nuevos materiales, biotecnología, etc) estan afectado dramaticamente gran parte del aparato productivo (agricultura, mineria) alargando las cadenas de valor y generado nuevos bienes y servicios; estás nuevos bienes se caracterizan por ser muy **intensivos en conocimineto**.\n",
        "\n",
        "> Los **sistemas de investigación y desarrollo** son una de las piezas angulares para que los países que no están en la frontera tecnológica puedan converger; se necesita coordinación con las **finanzas**, los **sectores (clusters de empresas)** y una **institución central** (Ministerio de Industria).\n",
        "\n",
        "> Adaptación: El **sistema de innovación y desarrollo** se adapta y pasa de ofrecer servicios básicos y adaptación de tecnología hasta el diseño y desarrollo en la frontera tecnológica.\n",
        "\n",
        "> El **SIN** es la pieza clave para que el país converja con la frontera tecnológica, fortalezca el aparato productivo y abra el camino para nuevos ecosistemas productivos en el país."
      ],
      "metadata": {
        "id": "7dwyRTKkZGam"
      }
    },
    {
      "cell_type": "markdown",
      "source": [
        "## Analisis-Evaluación: Red de Laboratorios de Innovación: Marco y Funcionamiento\n"
      ],
      "metadata": {
        "id": "x9wtiC1sY-WH"
      }
    },
    {
      "cell_type": "markdown",
      "source": [
        "### Brevarium\n",
        "\n",
        "> Si asumimos las premisas especificadas en el **marco anterior**, este documento se caracteriza por no ofrecer una **visión claro** sobre la función y participación del **SNI** en el **ecosistema productivo**, los mecanismos financieros y el órgano coordinador central de la política productiva;  **poniendo en peligro** la efectividad del mismo.\n",
        "\n",
        "> La **crítica anterior** sería suficiente para revisar el documento; sin embargo, es importante mencionar las buenas prácticas en el diseño de instituciones. Aquí notamos la asignación de muchas funciones sin definir instituciones de control del sistema y sus estrategias."
      ],
      "metadata": {
        "id": "VlrKjA0_ZAaG"
      }
    },
    {
      "cell_type": "markdown",
      "source": [
        "### Resumen: Red de Laboratorios de Innovación"
      ],
      "metadata": {
        "id": "PYGkUGznYt33"
      }
    },
    {
      "cell_type": "markdown",
      "source": [
        "> La **Red de Laboratorios de Innovación** se presenta como una guía de **innovación** para los laboratorios tanto **públicos** y **privados** del\n",
        "ecosistema de **innovación**. → “Instituciones de Referencia“.\n",
        ">\n",
        "\n",
        "> La red es un conjunto de agentes de innovación. → “Se habla de la red; pero en la red solo se conecta (compartir); y de los nodos; los entes que resuelven los problemas de innovación“.\n",
        ">\n",
        "\n",
        "> **Laboratorios de Innovación** se erigen como centros **dinámicos** de colaboración entre el gobierno, la sociedad\n",
        "civil, las empresas y la academia.\n",
        ">\n",
        "\n",
        "> Este documento pretende dar un marco sólido que guíe la creación, estructuración y operación de los **Laboratorios** **de Innovación**, incorporando\n",
        "las directrices de la **Política Nacional de Innovación 2030**.\n",
        ">\n",
        "\n",
        "> La **Red de Laboratorios de Innovación de la República Dominicana** tiene como propósito fundamental ser un catalizador de la transformación social y gubernamental.\n",
        ">\n",
        "\n",
        "> **Potenciar** la capacidad de la **República Dominicana** para abordar desafíos complejos y fomentar el desarrollo sostenible a través de la **innovación** **colaborativa** entre el **sector público**, el sector  privado, la academia y la sociedad civil.\n",
        ">\n",
        "\n",
        "> ¿Cómo define el documento los laboratorios de innovación?\n",
        ">\n",
        "\n",
        "En este documento, explicaremos:\n",
        "\n",
        "- la definición de laboratorios,\n",
        "- su estructura y organización,\n",
        "- procesos,\n",
        "- metodologías,\n",
        "- acciones para promover  la colaboración interinstitucional y\n",
        "- **las métricas para evaluar su impacto**, todo ello en aras de construir un ecosistema innovador y eficiente\n",
        "que responda a las demandas cambiantes de la **sociedad dominicana**.\n",
        "\n",
        "> La participación del **sector privado** en estos laboratorios es fundamental, ya que aporta conocimientos especializados, tecnologías, recursos financieros y experiencias en la implementación de **soluciones innovadoras**.\n",
        ">\n",
        "\n",
        "> **Innovación** de ciclo completo → generacion de idea → implementatacion (diseño e ingenieria)  Nota ¿Ciclo de innovación ? ¿Es esto el ciclo completo?\n",
        ">\n",
        "\n",
        "**Objetivos:**\n",
        "\n",
        "→ Desarrollar soluciones viables: (innovadoras)\n",
        "\n",
        "→ Fomentar la innovación ciudadana\n",
        "\n",
        "→ Promover la experimentación y el aprendizaje\n",
        "rápido\n",
        "\n",
        "→ Desarrollar Talento Local\n",
        "\n",
        "→ **Problema de Malasia / Buscar Paper**\n",
        "\n",
        "→ …\n",
        "\n",
        "#### Público Objetivo\n",
        "\n",
        "→ Laboratorios de Innovación existentes\n",
        "\n",
        "→ Nuevos Laboratorios a nivel nacional\n",
        "\n",
        "→ Nuevos Laboratorios a nivel nacional\n",
        "\n",
        "→ Sector Privado\n",
        "\n",
        "→ Problema: Público Muy Grande\n",
        "\n",
        "→ Academia y Centros de Investigación\n",
        "\n",
        "→ Colaboradores Internacionales\n",
        "\n",
        "#### Tipos de laboratorios de innovación\n",
        "\n",
        "> Esto es un **meta-sistema**  / muy difuso / poco concentrado → pocas habilidades; muy heterogeoneo;\n",
        ">\n",
        "\n",
        "> Necesitamos mas concreciciones / isntituciones con objetivos especificos (investigar ya es muy dificil)\n",
        ">\n",
        "\n",
        "→ Laboratorios de innovación corporativa o **Centros de Innovación Empresarial**: Se establecen en las empresas dominicanas\n",
        "para fomentar la creatividad y la innovación en un entorno controlado, separado de las operaciones principales diarias.\n",
        "\n",
        "→ Laboratorios de innovación afiliados a universidades o **Centros de Transferencia Tecnológica**: Se ubican en o cerca de campus universitarios\n",
        "en República Dominicana, facilitando la colaboración entre investigadores académicos y profesionales de la industria local.\n",
        "\n",
        "→ **Laboratorios de Innovación Gubernamental** o **Centros de Innovación Pública**:  **Financiados por instituciones gubernamentales,**\n",
        "estos laboratorios tienen como objetivo desarrollar soluciones para desafíos específicos del sector público, como salud, educación, y\n",
        "planificación urbana.\n",
        "\n",
        "→ Laboratorios de Innovación Independientes o Laboratorios de Innovación Abierta:  No me jodas / co-working space.\n",
        "\n",
        "→ Laboratorios de Innovación Comunitarios o **Espacios de Desarrollo Comunitario**: Estos se enfocan en la innovación desde la base,\n",
        "involucrando a las comunidades locales en el proceso de creación de soluciones.\n",
        "\n",
        "### MicroCanvas ® V2.0: Metodología de la Red de Laboratorios de Innovación\n",
        "\n",
        "> Increiblemente el meta-plan define los parametros en terminos de la **inovación cooporativa** (Marco  MicroCanvas) (MCF) (v2.0).\n",
        ">\n",
        "\n",
        "> Descubrimiento: → Validación: → Eficiencia → Escalamiento → Continuo:\n",
        ">\n",
        "\n",
        "> Muy buen marco - pero es para la empresas y la institucion que se encarga de eso es una institucion de desarollo empresarial / no el sistema de innovación.\n",
        ">"
      ],
      "metadata": {
        "id": "eG-DX5ejd_kM"
      }
    },
    {
      "cell_type": "markdown",
      "source": [
        "## References"
      ],
      "metadata": {
        "id": "uvmf5uusZPRn"
      }
    },
    {
      "cell_type": "markdown",
      "source": [
        "\n",
        "- OGTIC. (n.d.). Red de Laboratorios de Innovación: Marco y Funcionamiento.\n",
        "- Gabinete de Innovación  y Desarrollo Digital→ …\n",
        "- Política Nacional de Innovación 2030 (PNI 2030) → …\n",
        "- “The Corporate Startup” de Tendayi Viki, Dan Toma y Esther Gons, a menudo analizan el papel y la importancia de los laboratorios de innovación en los entornos organizacionales modernos.\n",
        "- …"
      ],
      "metadata": {
        "id": "cvXeO1hoZWm3"
      }
    }
  ]
}