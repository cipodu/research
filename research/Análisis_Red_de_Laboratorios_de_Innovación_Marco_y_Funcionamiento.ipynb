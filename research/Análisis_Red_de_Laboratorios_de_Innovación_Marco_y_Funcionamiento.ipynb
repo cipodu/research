{
  "nbformat": 4,
  "nbformat_minor": 0,
  "metadata": {
    "colab": {
      "provenance": [],
      "authorship_tag": "ABX9TyPez5jeIg8BO0LZ437zjgJj",
      "include_colab_link": true
    },
    "kernelspec": {
      "name": "python3",
      "display_name": "Python 3"
    },
    "language_info": {
      "name": "python"
    }
  },
  "cells": [
    {
      "cell_type": "markdown",
      "metadata": {
        "id": "view-in-github",
        "colab_type": "text"
      },
      "source": [
        "<a href=\"https://colab.research.google.com/github/cipodu/research/blob/main/research/An%C3%A1lisis_Red_de_Laboratorios_de_Innovaci%C3%B3n_Marco_y_Funcionamiento.ipynb\" target=\"_parent\"><img src=\"https://colab.research.google.com/assets/colab-badge.svg\" alt=\"Open In Colab\"/></a>"
      ]
    },
    {
      "cell_type": "markdown",
      "source": [
        "# Análisis: Red de Laboratorios de Innovación: Marco y Funcionamiento"
      ],
      "metadata": {
        "id": "l0kfPoECeFH3"
      }
    }
  ]
}