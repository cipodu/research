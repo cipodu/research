{
  "nbformat": 4,
  "nbformat_minor": 0,
  "metadata": {
    "colab": {
      "provenance": [],
      "authorship_tag": "ABX9TyPU3jzc84xnZbTM+dccesPd",
      "include_colab_link": true
    },
    "kernelspec": {
      "name": "python3",
      "display_name": "Python 3"
    },
    "language_info": {
      "name": "python"
    }
  },
  "cells": [
    {
      "cell_type": "markdown",
      "metadata": {
        "id": "view-in-github",
        "colab_type": "text"
      },
      "source": [
        "<a href=\"https://colab.research.google.com/github/cipodu/research/blob/main/research/An%C3%A1lisis_Red_de_Laboratorios_de_Innovaci%C3%B3n_Marco_y_Funcionamiento.ipynb\" target=\"_parent\"><img src=\"https://colab.research.google.com/assets/colab-badge.svg\" alt=\"Open In Colab\"/></a>"
      ]
    },
    {
      "cell_type": "markdown",
      "source": [
        "# Análisis: Red de Laboratorios de Innovación: Marco y Funcionamiento"
      ],
      "metadata": {
        "id": "l0kfPoECeFH3"
      }
    },
    {
      "cell_type": "markdown",
      "source": [
        "> La **Red de Laboratorios de Innovación** se presenta como una guía de **innovación** para los laboratorios tanto **públicos** y **privados** del\n",
        "ecosistema de **innovación**. → “Instituciones de Referencia“.\n",
        ">\n",
        "\n",
        "> La red es un conjunto de agentes de innovación. → “Se habla de la red; pero en la red solo se conecta (compartir); y de los nodos; los entes que resuelven los problemas de innovación“.\n",
        ">\n",
        "\n",
        "> **Laboratorios de Innovación** se erigen como centros **dinámicos** de colaboración entre el gobierno, la sociedad\n",
        "civil, las empresas y la academia.\n",
        ">\n",
        "\n",
        "> Este documento pretende dar un marco sólido que guíe la creación, estructuración y operación de los **Laboratorios** **de Innovación**, incorporando\n",
        "las directrices de la **Política Nacional de Innovación 2030**.\n",
        ">\n",
        "\n",
        "> La **Red de Laboratorios de Innovación de la República Dominicana** tiene como propósito fundamental ser un catalizador de la transformación social y gubernamental.\n",
        ">\n",
        "\n",
        "> **Potenciar** la capacidad de la **República Dominicana** para abordar desafíos complejos y fomentar el desarrollo sostenible a través de la **innovación** **colaborativa** entre el **sector público**, el sector  privado, la academia y la sociedad civil.\n",
        ">\n",
        "\n",
        "> ¿Cómo define el documento los laboratorios de innovación?\n",
        ">\n",
        "\n",
        "En este documento, explicaremos:\n",
        "\n",
        "- la definición de laboratorios,\n",
        "- su estructura y organización,\n",
        "- procesos,\n",
        "- metodologías,\n",
        "- acciones para promover  la colaboración interinstitucional y\n",
        "- **las métricas para evaluar su impacto**, todo ello en aras de construir un ecosistema innovador y eficiente\n",
        "que responda a las demandas cambiantes de la **sociedad dominicana**.\n",
        "\n",
        "> La participación del **sector privado** en estos laboratorios es fundamental, ya que aporta conocimientos especializados, tecnologías, recursos financieros y experiencias en la implementación de **soluciones innovadoras**.\n",
        ">\n",
        "\n",
        "> **Innovación** de ciclo completo → generacion de idea → implementatacion (diseño e ingenieria)  Nota ¿Ciclo de innovación ? ¿Es esto el ciclo completo?\n",
        ">\n",
        "\n",
        "**Objetivos:**\n",
        "\n",
        "→ Desarrollar soluciones viables: (innovadoras)\n",
        "\n",
        "→ Fomentar la innovación ciudadana\n",
        "\n",
        "→ Promover la experimentación y el aprendizaje\n",
        "rápido\n",
        "\n",
        "→ Desarrollar Talento Local\n",
        "\n",
        "→ **Problema de Malasia / Buscar Paper**\n",
        "\n",
        "→ …\n",
        "\n",
        "## Público Objetivo\n",
        "\n",
        "→ Laboratorios de Innovación existentes\n",
        "\n",
        "→ Nuevos Laboratorios a nivel nacional\n",
        "\n",
        "→ Nuevos Laboratorios a nivel nacional\n",
        "\n",
        "→ Sector Privado\n",
        "\n",
        "→ Problema: Público Muy Grande\n",
        "\n",
        "→ Academia y Centros de Investigación\n",
        "\n",
        "→ Colaboradores Internacionales\n",
        "\n",
        "## Tipos de laboratorios de innovación\n",
        "\n",
        "> Esto es un **meta-sistema**  / muy difuso / poco concentrado → pocas habilidades; muy heterogeoneo;\n",
        ">\n",
        "\n",
        "> Necesitamos mas concreciciones / isntituciones con objetivos especificos (investigar ya es muy dificil)\n",
        ">\n",
        "\n",
        "→ Laboratorios de innovación corporativa o **Centros de Innovación Empresarial**: Se establecen en las empresas dominicanas\n",
        "para fomentar la creatividad y la innovación en un entorno controlado, separado de las operaciones principales diarias.\n",
        "\n",
        "→ Laboratorios de innovación afiliados a universidades o **Centros de Transferencia Tecnológica**: Se ubican en o cerca de campus universitarios\n",
        "en República Dominicana, facilitando la colaboración entre investigadores académicos y profesionales de la industria local.\n",
        "\n",
        "→ **Laboratorios de Innovación Gubernamental** o **Centros de Innovación Pública**:  **Financiados por instituciones gubernamentales,**\n",
        "estos laboratorios tienen como objetivo desarrollar soluciones para desafíos específicos del sector público, como salud, educación, y\n",
        "planificación urbana.\n",
        "\n",
        "→ Laboratorios de Innovación Independientes o Laboratorios de Innovación Abierta:  No me jodas / co-working space.\n",
        "\n",
        "→ Laboratorios de Innovación Comunitarios o **Espacios de Desarrollo Comunitario**: Estos se enfocan en la innovación desde la base,\n",
        "involucrando a las comunidades locales en el proceso de creación de soluciones.\n",
        "\n",
        "## MicroCanvas ® V2.0: Metodología de la Red de Laboratorios de Innovación\n",
        "\n",
        "> Increiblemente el meta-plan define los parametros en terminos de la **inovación cooporativa** (Marco  MicroCanvas) (MCF) (v2.0).\n",
        ">\n",
        "\n",
        "> Descubrimiento: → Validación: → Eficiencia → Escalamiento → Continuo:\n",
        ">\n",
        "\n",
        "> Muy buen marco - pero es para la empresas y la institucion que se encarga de eso es una institucion de desarollo empresarial / no el sistema de innovación.\n",
        ">\n",
        "\n",
        "## References\n",
        "\n",
        "- OGTIC. (n.d.). Red de Laboratorios de Innovación: Marco y Funcionamiento.\n",
        "- Gabinete de Innovación  y Desarrollo Digital→ …\n",
        "- Política Nacional de Innovación 2030 (PNI 2030) → …\n",
        "- “The Corporate Startup” de Tendayi Viki, Dan Toma y Esther Gons, a menudo analizan el papel y la importancia de los laboratorios de innovación en los entornos organizacionales modernos.\n",
        "- …"
      ],
      "metadata": {
        "id": "eG-DX5ejd_kM"
      }
    }
  ]
}