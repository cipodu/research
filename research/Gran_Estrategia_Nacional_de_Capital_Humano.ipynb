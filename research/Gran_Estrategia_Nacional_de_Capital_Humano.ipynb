{
  "nbformat": 4,
  "nbformat_minor": 0,
  "metadata": {
    "colab": {
      "provenance": [],
      "authorship_tag": "ABX9TyNOYkSbSKm1W2X30qUpmggW",
      "include_colab_link": true
    },
    "kernelspec": {
      "name": "python3",
      "display_name": "Python 3"
    },
    "language_info": {
      "name": "python"
    }
  },
  "cells": [
    {
      "cell_type": "markdown",
      "metadata": {
        "id": "view-in-github",
        "colab_type": "text"
      },
      "source": [
        "<a href=\"https://colab.research.google.com/github/cipodu/research/blob/main/research/Gran_Estrategia_Nacional_de_Capital_Humano.ipynb\" target=\"_parent\"><img src=\"https://colab.research.google.com/assets/colab-badge.svg\" alt=\"Open In Colab\"/></a>"
      ]
    },
    {
      "cell_type": "markdown",
      "source": [
        "> Yo, Ciudadano Libre de la República de las Letras, ni esclavo de Aristóteles ni aliado de sus enemigos, escucharé siempre con preferencia a toda autoridad privada lo que me dictaren la experiencia y la razón.\n",
        "\n",
        "> Debate, reason, create, test, monitor educational policy.\n",
        "\n",
        "## References\n",
        "\n",
        "- <a href= \"https://www.notion.so/Patronato-45733685c047412d966251ed154cb832?pvs=21\" targget= \"_blank\"> Patronato </a>\n",
        "\n",
        "- <a href=\"https://www.notion.so/Observatory-c486a3771d5d4cc3ab7a10336cad0c64?pvs=21\"> Observatory </a>\n",
        "\n",
        "- <a href=\"https://www.notion.so/Minor-Council-of-Child-Care-d7936504bd0f4bc9b3b3711f6dae2ebb?pvs=21\"> Minor Council of Child Care </a>\n",
        "\n",
        "- <a href=\"https://www.notion.so/Minor-Council-of-Universities-d3173aed945841d096644b7ebd4fcbb8?pvs=21\"> Minor Council of Universities </a>\n",
        "\n",
        "- <a href=\"https://www.notion.so/Minor-Council-of-Minor-Colleges-2213b92d3a3d4133b43f81af0c9c973e?pvs=21\"> Minor Council of Minor Colleges </a>\n",
        "\n",
        "- <a href=\"https://www.notion.so/Minor-Council-of-Technical-Institutes-c6d3a40684d544bcb1d6d51c0b784429?pvs=21\"> Minor  Council of Technical Institutes </a>\n",
        "\n",
        "- <a href=\"https://www.notion.so/Minor-Council-of-Research-Universities-bc6725341bb44abba32e08bb0b52135d?pvs=21\"> Minor Council of Research Universities </a>"
      ],
      "metadata": {
        "id": "mfShZNdqjJwj"
      }
    }
  ]
}