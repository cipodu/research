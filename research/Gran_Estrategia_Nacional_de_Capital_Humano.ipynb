{
  "nbformat": 4,
  "nbformat_minor": 0,
  "metadata": {
    "colab": {
      "provenance": [],
      "authorship_tag": "ABX9TyNCP75CinbZOiGCvgTPCb/a",
      "include_colab_link": true
    },
    "kernelspec": {
      "name": "python3",
      "display_name": "Python 3"
    },
    "language_info": {
      "name": "python"
    }
  },
  "cells": [
    {
      "cell_type": "markdown",
      "metadata": {
        "id": "view-in-github",
        "colab_type": "text"
      },
      "source": [
        "<a href=\"https://colab.research.google.com/github/cipodu/research/blob/main/research/Gran_Estrategia_Nacional_de_Capital_Humano.ipynb\" target=\"_parent\"><img src=\"https://colab.research.google.com/assets/colab-badge.svg\" alt=\"Open In Colab\"/></a>"
      ]
    },
    {
      "cell_type": "markdown",
      "source": [
        "> Yo, Ciudadano Libre de la República de las Letras, ni esclavo de Aristóteles ni aliado de sus enemigos, escucharé siempre con preferencia a toda autoridad privada lo que me dictaren la experiencia y la razón.\n",
        "\n",
        "> Debate, reason, create, test, monitor educational policy.\n",
        "\n",
        "## References\n",
        "\n",
        "- <a href= \"https://nbsanity.com/cipodu/research/blob/main/research/educacion/Patronato.ipynb\" target= \"_blank\"> Patronato </a>\n",
        "\n",
        "- <a href=\"https://nbsanity.com/cipodu/research/blob/main/research/educacion/Observatorio.ipynb\" target= \"_blank\"> Observatory </a>\n",
        "\n",
        "- <a href=\"https://nbsanity.com/cipodu/research/blob/main/research/educacion/Consejo_Menor_Atenciones_Primarias.ipynb\" target= \"_blank\"> Minor Council of Child Care </a>\n",
        "\n",
        "- <a href=\"https://nbsanity.com/cipodu/research/blob/main/research/educacion/Consejo_Menor_Colegios_Menores.ipynb\" target= \"_blank\"> Minor Council of Minor Colleges </a>\n",
        "\n",
        "- <a href=\"https://nbsanity.com/cipodu/research/blob/main/research/educacion/Consejo_Menor_Institutos_Tecnicos.ipynb\" target= \"_blank\"> Minor  Council of Technical Institutes </a>"
      ],
      "metadata": {
        "id": "mfShZNdqjJwj"
      }
    }
  ]
}