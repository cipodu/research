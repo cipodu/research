{
  "nbformat": 4,
  "nbformat_minor": 0,
  "metadata": {
    "colab": {
      "provenance": [],
      "authorship_tag": "ABX9TyOnx2WLzydyLwkHnaNOFmdW",
      "include_colab_link": true
    },
    "kernelspec": {
      "name": "python3",
      "display_name": "Python 3"
    },
    "language_info": {
      "name": "python"
    }
  },
  "cells": [
    {
      "cell_type": "markdown",
      "metadata": {
        "id": "view-in-github",
        "colab_type": "text"
      },
      "source": [
        "<a href=\"https://colab.research.google.com/github/cipodu/research/blob/main/research/Gran_Estrategia_Nacional_de_Desarrollo.ipynb\" target=\"_parent\"><img src=\"https://colab.research.google.com/assets/colab-badge.svg\" alt=\"Open In Colab\"/></a>"
      ]
    },
    {
      "cell_type": "markdown",
      "source": [
        "# Gran Estrategia Nacional de Desarrollo\n",
        "\n",
        "..."
      ],
      "metadata": {
        "id": "paHJdEXGIczK"
      }
    },
    {
      "cell_type": "markdown",
      "source": [
        "> ¿Can we transition from a low e **value-added** economy to a **high-value-added** one?\n",
        ">\n",
        "\n",
        "## **Policies Areas**\n",
        "\n",
        "1. Industrial human resource\n",
        "2. Domestic enterprise development\n",
        "3. Business Climate\n",
        "4. Power & Logistics\n",
        "5. Export Promotion\n",
        "6. Strategic FDI marketing\n",
        "7. Industrial parks\n",
        "8. Supporting industries & FDI-local firm linkage\n",
        "9. Productivity, technology & innovation\n",
        "10. Standards & testing\n",
        "\n",
        "## Functional Aspects\n",
        "\n",
        "1. Policy ownership\n",
        "2. Vision & commitment of top leader(s)\n",
        "3. Policy drafting procedure\n",
        "4. Authority & capacity of policy organizations\n",
        "5. Mindset & competency of implementing officials\n",
        "6. Budgeting & staffing\n",
        "7. Inter-ministerial coordination\n",
        "8. Involvement of key non-official stakeholders\n",
        "9. Monitoring & evaluating mechanisms\n",
        "10. Impact on the real economy"
      ],
      "metadata": {
        "id": "zcN2pL_dO3WG"
      }
    }
  ]
}