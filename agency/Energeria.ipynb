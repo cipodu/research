{
  "nbformat": 4,
  "nbformat_minor": 0,
  "metadata": {
    "colab": {
      "provenance": [],
      "authorship_tag": "ABX9TyMscItefhw1Iu7pkzkdJa9u",
      "include_colab_link": true
    },
    "kernelspec": {
      "name": "python3",
      "display_name": "Python 3"
    },
    "language_info": {
      "name": "python"
    }
  },
  "cells": [
    {
      "cell_type": "markdown",
      "metadata": {
        "id": "view-in-github",
        "colab_type": "text"
      },
      "source": [
        "<a href=\"https://colab.research.google.com/github/cipodu/research/blob/main/agency/Energeria.ipynb\" target=\"_parent\"><img src=\"https://colab.research.google.com/assets/colab-badge.svg\" alt=\"Open In Colab\"/></a>"
      ]
    },
    {
      "cell_type": "markdown",
      "source": [
        "# Energeria\n",
        "\n",
        "> **Energy research** encompasses the systematic investigation and development of innovative technologies, policies, and strategies aimed at understanding, improving, and optimizing the production, conversion, distribution, storage, and utilization of energy resources to meet present and future societal needs while addressing environmental and sustainability challenges.\n",
        ">\n",
        "\n",
        "## References\n",
        "\n",
        "- [French Alternative Energies and Atomic Energy Commission](https://en.wikipedia.org/wiki/French_Alternative_Energies_and_Atomic_Energy_Commission)\n",
        "- [National Renewable Energy Laboratory (NREL)](https://www.nrel.gov/) - Located in Golden, Colorado, USA, NREL is the primary laboratory for renewable energy and energy efficiency research in the United States. It researches solar, wind, biomass, geothermal, and other renewable energy technologies.\n",
        "- [Lawrence Berkeley National Laboratory](https://www.lbl.gov/) (LBNL) - LBNL, located in Berkeley, California, USA, is a multidisciplinary research laboratory that conducts research in various fields, including energy efficiency, renewable energy, advanced materials for energy applications, and climate science.\n",
        "- [Argonne National Laboratory](https://www.anl.gov/) - Argonne, located near Chicago, Illinois, USA, conducts research in a wide range of scientific and engineering disciplines, including energy storage, nuclear energy, transportation, and sustainable energy systems.\n",
        "- [European Commission's Joint Research Centre](https://www.netl.doe.gov/) (JRC) - The JRC, based in Brussels, Belgium, is the European Union's in-house science service. It conducts research to support EU policies across various areas, including energy, with a focus on renewable energy integration, energy efficiency, and energy security."
      ],
      "metadata": {
        "id": "SzCk-M4XaCxK"
      }
    }
  ]
}