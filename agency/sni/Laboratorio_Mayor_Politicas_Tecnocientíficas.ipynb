{
  "nbformat": 4,
  "nbformat_minor": 0,
  "metadata": {
    "colab": {
      "provenance": [],
      "authorship_tag": "ABX9TyOzfLUjkwOlHEGal4BTR2eY",
      "include_colab_link": true
    },
    "kernelspec": {
      "name": "python3",
      "display_name": "Python 3"
    },
    "language_info": {
      "name": "python"
    }
  },
  "cells": [
    {
      "cell_type": "markdown",
      "metadata": {
        "id": "view-in-github",
        "colab_type": "text"
      },
      "source": [
        "<a href=\"https://colab.research.google.com/github/cipodu/research/blob/main/agency/Laboratorio_Mayor_Politicas_Tecnocient%C3%ADficas.ipynb\" target=\"_parent\"><img src=\"https://colab.research.google.com/assets/colab-badge.svg\" alt=\"Open In Colab\"/></a>"
      ]
    },
    {
      "cell_type": "markdown",
      "source": [
        "# Laboratorio Mayor Politicas Tecnocientíficas\n",
        "\n",
        ">\n",
        "\n",
        "## References\n",
        "\n",
        "- Centre for Research in Innovation Management (CENTRIM)\n",
        "- Consortium for Research on Innovation Studies\n",
        "- Science Policy Research Unit (SPRU)\n",
        "- RAND Corporation\n",
        "- Institute for Science, Innovation and Society (InSIS)\n",
        "- Institute for Technology Assessment and Systems Analysis (ITAS)\n",
        "- …."
      ],
      "metadata": {
        "id": "PCAETFzrhvr3"
      }
    }
  ]
}
