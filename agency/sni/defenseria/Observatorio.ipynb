{
  "nbformat": 4,
  "nbformat_minor": 0,
  "metadata": {
    "colab": {
      "provenance": [],
      "authorship_tag": "ABX9TyMi3XniIBhg11O61CLKLJo7",
      "include_colab_link": true
    },
    "kernelspec": {
      "name": "python3",
      "display_name": "Python 3"
    },
    "language_info": {
      "name": "python"
    }
  },
  "cells": [
    {
      "cell_type": "markdown",
      "metadata": {
        "id": "view-in-github",
        "colab_type": "text"
      },
      "source": [
        "<a href=\"https://colab.research.google.com/github/cipodu/research/blob/main/agency/sni/defenseria/Observatorio.ipynb\" target=\"_parent\"><img src=\"https://colab.research.google.com/assets/colab-badge.svg\" alt=\"Open In Colab\"/></a>"
      ]
    },
    {
      "cell_type": "markdown",
      "source": [
        "> En nuestra **defensaría**, lideramos la investigación tecnocientífica en **productos de defensa** con el objetivo de fomentar el **crecimiento económico** y **garantizar** la seguridad nacional.\n"
      ],
      "metadata": {
        "id": "Waxh8u23cR55"
      }
    },
    {
      "cell_type": "markdown",
      "source": [
        "# Modelos de Negocio\n",
        "\n",
        "- **I+D como Servicio**: Problemas de Investigación → Soluciones de Investigación.  \n",
        "- **Incubadora**: Problemas de Investigación → Spin-off.  \n",
        "- Servicios profesionales de inspección, calibración, medición, prueba y verificación.  \n",
        "- Transferencia Tecnológica  \n",
        "- Investigación Conjunta  \n",
        "- **Servicios de Consultoría**: NLR ofrece servicios de consultoría en diversas áreas relacionadas con la aeronáutica, como aerodinámica, estructuras, sistemas y gestión del tráfico aéreo. Estos servicios pueden incluir estudios de viabilidad, asesoramiento técnico y orientación estratégica.  \n",
        "- **Servicios de Pruebas y Certificación**: NLR opera instalaciones de prueba para sistemas y componentes aeroespaciales, incluidos túneles de viento, simuladores de vuelo y cámaras ambientales de prueba. Las empresas y organizaciones pagan por servicios de pruebas y certificación para garantizar que sus productos cumplan con las normas y regulaciones de la industria.\n",
        "- **Prototipado y Prueba**:"
      ],
      "metadata": {
        "id": "Bq5ESKWsradq"
      }
    },
    {
      "cell_type": "markdown",
      "source": [
        "# Objetivos Generales\n"
      ],
      "metadata": {
        "id": "HYpNLgeesc1Z"
      }
    },
    {
      "cell_type": "markdown",
      "source": [
        "\n",
        "- Realizar I+D en áreas que promuevan la competitividad económica y tecnológica.\n",
        "\n",
        "- Facilitar la verificacion,\n",
        "\n",
        "- Ayudar en la absorción de tecnología e integración en la economía del país a través de adaptaciones simples.\n",
        "\n",
        "- Facilitar la localización tecnológica.\n",
        "\n",
        "- Ayudar al país a ponerse al día en un subconjunto de tecnologías con los líderes.\n",
        "\n",
        "- Participar en investigación de vanguardia en áreas con potencial para convertirse en motores de crecimiento futuro.\n",
        "\n",
        "- Servir como el eslabón intermedio entre la investigación universitaria a largo plazo y la investigación industrial aplicada.\n",
        "\n",
        "- Actuar como un centro de colaboración entre empresas de la industria para desarrollar conglomerados más competitivos y resilientes.\n",
        "\n",
        "- Ayudar a las empresas a desarrollar su capacidad de I+D.\n",
        "\n",
        "- Facilitar el flujo de conocimiento al permitir que los investigadores se muevan de ida y vuelta entre empresas y laboratorios de I+D.\n",
        "\n",
        "- Apoyar a las PYMEs en fomentar la innovación.\n",
        "\n",
        "- Servir de modelo para las empresas en términos de productividad y mejores prácticas.\n",
        "\n",
        "- Funcionar como un centro para la recepción y distribución de conocimientos/prácticas en el sector industrial.\n"
      ],
      "metadata": {
        "id": "L5Eq3Us3sfR3"
      }
    },
    {
      "cell_type": "markdown",
      "source": [
        "# Modelo de Financiamiento\n",
        "\n",
        "- Gobierno,\n",
        "- Industria y\n",
        "- Donaciones.\n"
      ],
      "metadata": {
        "id": "-asL9tBpsWIf"
      }
    },
    {
      "cell_type": "markdown",
      "source": [
        "# Organización\n",
        "\n",
        "- \"Por Hacer\" 👁\n"
      ],
      "metadata": {
        "id": "64yUaCrtsxct"
      }
    },
    {
      "cell_type": "markdown",
      "source": [
        "# Estrategía de Desarollo"
      ],
      "metadata": {
        "id": "PvG_WzSDs2tT"
      }
    },
    {
      "cell_type": "markdown",
      "source": [
        "- \"Por Hacer\" 👁"
      ],
      "metadata": {
        "id": "p9KBXwD5s3fz"
      }
    },
    {
      "cell_type": "markdown",
      "source": [
        "## Areas de Conocimiento\n",
        "\n",
        "- \"Por Hacer\" 👁\n"
      ],
      "metadata": {
        "id": "x0F2oMFetIUA"
      }
    },
    {
      "cell_type": "markdown",
      "source": [
        "## Areas de Negocios\n",
        "\n",
        "- Productos de Defensa Cuertos de Seguridad\n",
        "- Servicios Comerciales Industrias Diversas\n",
        "- Telecomunicaciones\n",
        "- Aeroespacial\n",
        "- Industria Aeroespacial\n",
        "- Productos de Inteligencia"
      ],
      "metadata": {
        "id": "GVtHuoattFSR"
      }
    },
    {
      "cell_type": "markdown",
      "source": [
        "# Laboratorios y Centros"
      ],
      "metadata": {
        "id": "FTbpLH4stbc_"
      }
    },
    {
      "cell_type": "markdown",
      "source": [
        "- Ballistics: Study of the behavior of projectiles, such as bullets or rockets, particularly their flight characteristics and impact effects.\n",
        "\n",
        "- Cybersecurity: Protection of computer systems, networks, and data from cyber attacks, espionage, and theft.\n",
        "\n",
        "- Directed Energy Weapons (DEW): Research into energy weapons that emit focused energy, including lasers and microwave weapons, for defense purposes.\n",
        "\n",
        "- Electronic Warfare: Techniques used to control the electromagnetic spectrum or to attack enemy electronics, such as radar jamming or electronic countermeasures.\n",
        "\n",
        "- Intelligence, Surveillance, and Reconnaissance (ISR): Gathering and analyzing information about adversaries, terrain, and other factors to support military decision-making.\n",
        "\n",
        "- Materials Science: Study of the properties and applications of materials, including metals, ceramics, and composites, for use in defense technologies.\n",
        "\n",
        "- Robotics Systems: Development of robots and unmanned systems for military applications, such as drones, autonomous vehicles, and robotic soldiers.\n",
        "\n",
        "- Space Technology: Research into technologies for space exploration, satellite systems, and space-based defense capabilities.\n",
        "\n",
        "- Unmanned Aerial Vehicles (UAVs): (UAVs)\tDevelopment and use of drones and other unmanned aircraft for reconnaissance, surveillance, and combat missions.\n",
        "\n",
        "- Weapons Systems: \tResearch and development of advanced weapon systems, including missiles, firearms, and artillery, as well as their guidance and control systems.\n",
        "\n",
        "- Materials Science\n",
        "\n",
        "- Intelligent Systems\n",
        "\n",
        "- Computation Sciences"
      ],
      "metadata": {
        "id": "Dia2rqDMzpuz"
      }
    },
    {
      "cell_type": "markdown",
      "source": [
        "## Referencias"
      ],
      "metadata": {
        "id": "HFDBr7IizH2Y"
      }
    },
    {
      "cell_type": "markdown",
      "source": [
        "- DARPA\n",
        "- Swedish Defence Research Agency\n",
        "- MIT Lincoln Laboratory\n",
        "- Naval Research Laboratory (NRL)\n",
        "- Air Force Research Laboratory (AFRL)\n",
        "- Defence Science and Technology Laboratory (Dstl)\n",
        "- Defence Science and Technology Laboratory (Dstl)\n",
        "- Defence Science and Technology Group (DST Group)\n",
        "- Los Alamos National Laboratory (LANL)\n",
        "- Sandia National Laboratories (SNL)\n",
        "- Lawrence Livermore National Laboratory\n",
        "- National Reconnaissance Office (NRO)\n",
        "- National Geospatial-Intelligence Agency (NGA)\n",
        "- Army Research Laboratory (ARL)\n",
        "- Swedish Defence Research Agency (FOI)\n",
        "- Swedish National Defence College (SEDU)\n",
        "- Swedish Armed Forces Technical School (FMTS)\n",
        "- Swedish Defence University (SEDU)\n",
        "- Finnish Defence Research Agency (FDRA)\n",
        "- National Defence University (NDU)\n",
        "\n",
        "Enterprises:\n",
        "\n",
        "- **Saab**: A Swedish aerospace and defense company that develops, manufactures, and sells military aircraft, missiles, and other defense systems.\n",
        "\n",
        "- **Patria**: A Finnish defense, security, and aerospace company that provides defense, security, and aviation services and technology.\n",
        "\n",
        "- **Kongsberg Gruppen**: A Norwegian technology company that supplies defense systems, including weapons, ammunition, and missile systems, as well as maritime and offshore solutions.\n",
        "\n",
        "- **Terma**: A Danish defense and aerospace company specializing in mission-critical solutions for defense and security applications.\n",
        "\n",
        "- **RUAG**: A Swiss technology group specializing in aerospace and defense. It provides products and services for aerospace, defense, and security.\n",
        "\n",
        "- **Steyr Mannlicher**: An Austrian firearms manufacturer that produces a range of firearms for military and law enforcement use.\n",
        "\n",
        "- **ST Engineering**: A Singaporean technology, defense, and engineering group specializing in aerospace, electronics, land systems, and marine sectors.\n",
        "\n",
        "- **Elbit Systems**: An Israeli defense technology company that develops and supplies a range of defense systems, including aircraft, drones, and electronic warfare systems.\n",
        "\n",
        "- Israel Aerospace Industries: ...\n",
        "\n",
        "- Rafael Advanced Defense Systems: ..."
      ],
      "metadata": {
        "id": "67AamanOzJab"
      }
    }
  ]
}
