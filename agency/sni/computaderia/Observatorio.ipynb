{
  "nbformat": 4,
  "nbformat_minor": 0,
  "metadata": {
    "colab": {
      "provenance": [],
      "authorship_tag": "ABX9TyMP85mnCG7rcNcjQEVDiLvx",
      "include_colab_link": true
    },
    "kernelspec": {
      "name": "python3",
      "display_name": "Python 3"
    },
    "language_info": {
      "name": "python"
    }
  },
  "cells": [
    {
      "cell_type": "markdown",
      "metadata": {
        "id": "view-in-github",
        "colab_type": "text"
      },
      "source": [
        "<a href=\"https://colab.research.google.com/github/cipodu/research/blob/main/agency/sni/computaderia/Observatorio.ipynb\" target=\"_parent\"><img src=\"https://colab.research.google.com/assets/colab-badge.svg\" alt=\"Open In Colab\"/></a>"
      ]
    },
    {
      "cell_type": "markdown",
      "source": [
        "> In **computaderia**, we conduct research in **computer science** and **applied mathematics** to help create better software products that both foster economic growth and create a better future for all.\n",
        "\n",
        "\n",
        "\n"
      ],
      "metadata": {
        "id": "pHRRZzZvch4x"
      }
    },
    {
      "cell_type": "markdown",
      "source": [
        "# Modelos de Negocio\n",
        "\n",
        "- **I+D como Servicio**: Problemas de Investigación → Soluciones de Investigación.  \n",
        "- **Incubadora**: Problemas de Investigación → Spin-off.  \n",
        "- Servicios profesionales de inspección, calibración, medición, prueba y verificación.  \n",
        "- Transferencia Tecnológica  \n",
        "- Investigación Conjunta  \n",
        "- **Servicios de Consultoría**: NLR ofrece servicios de consultoría en diversas áreas relacionadas con la aeronáutica, como aerodinámica, estructuras, sistemas y gestión del tráfico aéreo. Estos servicios pueden incluir estudios de viabilidad, asesoramiento técnico y orientación estratégica.  \n",
        "- **Diseño y Prototipado**: ..."
      ],
      "metadata": {
        "id": "Bq5ESKWsradq"
      }
    },
    {
      "cell_type": "markdown",
      "source": [
        "# Objetivos Generales\n"
      ],
      "metadata": {
        "id": "HYpNLgeesc1Z"
      }
    },
    {
      "cell_type": "markdown",
      "source": [
        "\n",
        "- Realizar I+D en áreas que promuevan la competitividad económica y tecnológica.\n",
        "\n",
        "- Facilitar la verificacion,\n",
        "\n",
        "- Ayudar en la absorción de tecnología e integración en la economía del país a través de adaptaciones simples.\n",
        "\n",
        "- Facilitar la localización tecnológica.\n",
        "\n",
        "- Ayudar al país a ponerse al día en un subconjunto de tecnologías con los líderes.\n",
        "\n",
        "- Participar en investigación de vanguardia en áreas con potencial para convertirse en motores de crecimiento futuro.\n",
        "\n",
        "- Actuar como un centro de colaboración entre empresas de la industria para desarrollar conglomerados más competitivos y resilientes.\n",
        "\n",
        "- Ayudar a las empresas a desarrollar su capacidad de I+D.\n",
        "\n",
        "- Facilitar el flujo de conocimiento al permitir que los investigadores se muevan de ida y vuelta entre empresas y laboratorios de I+D.\n",
        "\n",
        "- Apoyar a las PYMEs en fomentar la innovación.\n",
        "\n",
        "- Servir de modelo para las empresas en términos de productividad y mejores prácticas.\n",
        "\n",
        "- Funcionar como un centro para la recepción y distribución de conocimientos/prácticas en el sector industrial.\n"
      ],
      "metadata": {
        "id": "L5Eq3Us3sfR3"
      }
    },
    {
      "cell_type": "markdown",
      "source": [
        "# Modelo de Financiamiento\n",
        "\n",
        "- Gobierno,\n",
        "- Industria y\n",
        "- Donaciones.\n"
      ],
      "metadata": {
        "id": "-asL9tBpsWIf"
      }
    },
    {
      "cell_type": "markdown",
      "source": [
        "# Organización\n",
        "\n",
        "- \"Por Hacer\" 👁\n"
      ],
      "metadata": {
        "id": "64yUaCrtsxct"
      }
    },
    {
      "cell_type": "markdown",
      "source": [
        "# Estrategía de Desarollo"
      ],
      "metadata": {
        "id": "PvG_WzSDs2tT"
      }
    },
    {
      "cell_type": "markdown",
      "source": [
        "- \"Por Hacer\" 👁"
      ],
      "metadata": {
        "id": "p9KBXwD5s3fz"
      }
    },
    {
      "cell_type": "markdown",
      "source": [
        "## Areas de Conocimiento\n",
        "\n",
        "- \"Por Hacer\" 👁\n"
      ],
      "metadata": {
        "id": "x0F2oMFetIUA"
      }
    },
    {
      "cell_type": "markdown",
      "source": [
        "## Areas de Negocios\n",
        "\n",
        "- Industrias Que Usen/Creen Software 🙂"
      ],
      "metadata": {
        "id": "GVtHuoattFSR"
      }
    },
    {
      "cell_type": "markdown",
      "source": [
        "# Laboratorios"
      ],
      "metadata": {
        "id": "FTbpLH4stbc_"
      }
    },
    {
      "cell_type": "markdown",
      "source": [
        "- Intelligent Systems Lab\n",
        "- Computation Sciences Science Science Lab\n",
        "- Applied Mathematics Lab\n",
        "  - Theoretical ML\n",
        "  - ...\n",
        "- Algorithms Lab\n",
        "- Intelligent Systems Lab\n",
        "  - Computer Vision Lab\n",
        "- Computer Graphis Lab\n",
        "- Data Systems Lab\n",
        "- Formal Systems Lab\n",
        "- Networking Lab Lab\n",
        "- Computer Architecture Lab\n",
        "- Human-Computer Interaction Lab\n",
        "- Programmin glNauges Lab\n",
        "- Software Engienering Lab\n",
        "- Robotics Lab\n",
        "- Security Lab\n",
        "- Computer Systems Lab\n",
        "- Quantum Computing"
      ],
      "metadata": {
        "id": "dKsc0sWPthcA"
      }
    },
    {
      "cell_type": "markdown",
      "source": [
        "## Referencias"
      ],
      "metadata": {
        "id": "682wB23R3v3A"
      }
    },
    {
      "cell_type": "markdown",
      "source": [
        "- [MIT Computer Science and Artificial Intelligence Laboratory (CSAIL)](https://www.csail.mit.edu)\n",
        "- Berkeley Artificial Intelligence Research (BAIR) Lab\n",
        "- [Google Research](https://research.google/)\n",
        "- [Microsoft Research](https://www.microsoft.com/en-us/research/)\n",
        "- [Max Planck Institute for Informatics](https://www.mpi-inf.mpg.de/home)\n",
        "- [University of Cambridge Computer Laboratory](https://www.cst.cam.ac.uk/)\n",
        "- [Imperial College London Department of Computing](https://www.imperial.ac.uk/computing/)\n",
        "- [RIKEN Center for Advanced Intelligence Project (AIP)](https://www.riken.jp/en/research/labs/aip/)\n",
        "- [National University of Singapore School of Computing](https://www.comp.nus.edu.sg/cs/)\n",
        "- [Tsinghua University Department of Computer Science and Technology](https://www.cs.tsinghua.edu.cn/csen/index.htm)\n",
        "- IBM Research\n",
        "- DeepMind\n",
        "- OpenAI\n",
        "- NVIDIA Research"
      ],
      "metadata": {
        "id": "ZLFrMMJo5ubD"
      }
    }
  ]
}
