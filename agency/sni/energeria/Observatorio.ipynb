{
  "nbformat": 4,
  "nbformat_minor": 0,
  "metadata": {
    "colab": {
      "provenance": [],
      "authorship_tag": "ABX9TyPO7CRNuWibjuiag8g+JFxu",
      "include_colab_link": true
    },
    "kernelspec": {
      "name": "python3",
      "display_name": "Python 3"
    },
    "language_info": {
      "name": "python"
    }
  },
  "cells": [
    {
      "cell_type": "markdown",
      "metadata": {
        "id": "view-in-github",
        "colab_type": "text"
      },
      "source": [
        "<a href=\"https://colab.research.google.com/github/cipodu/research/blob/main/agency/sni/energeria/Observatorio.ipynb\" target=\"_parent\"><img src=\"https://colab.research.google.com/assets/colab-badge.svg\" alt=\"Open In Colab\"/></a>"
      ]
    },
    {
      "cell_type": "markdown",
      "source": [
        "# Energeria\n",
        "\n",
        "> Realizar **investigaciones y desarrollar** tecnologías energéticas que impulsen la producción, almacenamiento y transporte de energía en nuestro país, fortaleciendo así su competitividad económica."
      ],
      "metadata": {
        "id": "aR5CTTxsC67k"
      }
    },
    {
      "cell_type": "markdown",
      "source": [
        "## Modelos de Negocio\n",
        "\n",
        "- ..."
      ],
      "metadata": {
        "id": "zzynCruKTKl_"
      }
    },
    {
      "cell_type": "markdown",
      "source": [
        "## Modelo de Financiamiento\n",
        "\n",
        "- ..."
      ],
      "metadata": {
        "id": "bKxCoq00TMWu"
      }
    },
    {
      "cell_type": "markdown",
      "source": [
        "# Objetivos Generales\n",
        "\n",
        "- ..."
      ],
      "metadata": {
        "id": "OUVxWiTVTPjL"
      }
    },
    {
      "cell_type": "markdown",
      "source": [
        "## Organización\n",
        "\n",
        "- \"Por Hacer\" 👁"
      ],
      "metadata": {
        "id": "adLPjmjCTaSg"
      }
    },
    {
      "cell_type": "markdown",
      "source": [
        "##  Estrategía de Desarollo\n",
        "\n",
        "- Fase 1: Desarrollo de Capacidades Básicas de Adaptación y Absorción Tecnológica.\n",
        "- Fase 2: Desarrollo de Capacidades Básicas de Investigación y Diseño.\n",
        "- Fase 3: Desarrollo de Capacidades de Localización de Tecnologías Clave.\n",
        "- Fase 4: Desarrollo de Capacidades de Investigación en la Frontera Tecnológica.\n"
      ],
      "metadata": {
        "id": "pRsjI-4MTmJ0"
      }
    },
    {
      "cell_type": "markdown",
      "source": [
        "## Areas de Conocimiento\n",
        "\n",
        "- Bioenergia\n",
        "- Chemical Energy\n",
        "- Electrical Energy\n",
        "- Energy Systems\n",
        "- Energy Storage\n",
        "- Geomtermanl Energy\n",
        "- Hydrogen\n",
        "- Fuel Cells\n",
        "- Solar Energy\n",
        "- Water Energy\n",
        "- Wind Energy\n",
        "- New Energy Sources\n",
        "- Energy Convertion Technoogies\n",
        "- Power Systems\n",
        "- Energy Distribution Systems\n",
        "- Applied Energy Materials\n",
        "- Thermal Science\n",
        "- Laser Technologies\n",
        "- Grid Integration\n",
        "- Nucler Energy\n",
        "  - Thermonuclear fusion\n",
        "  - Small Modular Reactors\n",
        "  -\n",
        "- Electric Power\n",
        "- Smart Grids\n",
        "- Carbon Capture and Storage\n",
        "- Renewable Energy\n",
        "- Energy Policy and Economics\n",
        "  - Energy Demand Forecasting\n",
        "  - Energy System Resilience\n",
        "  - ...\n",
        "- Computational Science Lab  - Attach Theoretical Problems in Energy Research\n",
        "- Carbon Technology\n",
        "- Energy-Efficient Buildings\n",
        "- Industrial Energy Efficiency\n",
        "- ..."
      ],
      "metadata": {
        "id": "H12sU--yTpXy"
      }
    },
    {
      "cell_type": "markdown",
      "source": [
        "## Areas de Negocios\n",
        "\n",
        "- \"Por Hacer\" 👁"
      ],
      "metadata": {
        "id": "fPwdiXFmC9Xg"
      }
    },
    {
      "cell_type": "markdown",
      "source": [
        "## Referencias\n",
        "\n",
        "\n",
        "- Swedish Energy Agency\n",
        "- KTH Energy Platform\n",
        "- National Renewable Energy Laboratory (NREL)\n",
        "- Argonne National Laboratory\n",
        "- CanmetENERGY\n",
        "- Swiss Federal Institute of Technology (ETH Zurich) - Energy Science Center\n",
        "- CIEMAT (Center for Energy, Environmental and Technological Research)\n",
        "- CEA (French Alternative Energies and Atomic Energy Commission)\n",
        "- Fraunhofer Institute for Solar Energy Systems (ISE)\n",
        "- SINTEF Energy Research\n",
        "- Technical University of Denmark (DTU) - Department of Energy Conversion and Storage\n",
        "- ArpaE\n"
      ],
      "metadata": {
        "id": "amrjGxKhNXVm"
      }
    }
  ]
}