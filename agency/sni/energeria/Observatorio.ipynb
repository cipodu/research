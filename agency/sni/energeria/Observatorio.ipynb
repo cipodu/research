{
  "nbformat": 4,
  "nbformat_minor": 0,
  "metadata": {
    "colab": {
      "provenance": [],
      "authorship_tag": "ABX9TyNwYt0t065fs0XJidSIpcjO",
      "include_colab_link": true
    },
    "kernelspec": {
      "name": "python3",
      "display_name": "Python 3"
    },
    "language_info": {
      "name": "python"
    }
  },
  "cells": [
    {
      "cell_type": "markdown",
      "metadata": {
        "id": "view-in-github",
        "colab_type": "text"
      },
      "source": [
        "<a href=\"https://colab.research.google.com/github/cipodu/research/blob/main/agency/sni/energeria/Observatorio.ipynb\" target=\"_parent\"><img src=\"https://colab.research.google.com/assets/colab-badge.svg\" alt=\"Open In Colab\"/></a>"
      ]
    },
    {
      "cell_type": "markdown",
      "source": [
        "# Energeria\n",
        "\n",
        "> Realizar **investigaciones y desarrollar** tecnologías energéticas que impulsen la producción, almacenamiento y transporte de energía en nuestro país, fortaleciendo así su competitividad económica."
      ],
      "metadata": {
        "id": "aR5CTTxsC67k"
      }
    },
    {
      "cell_type": "markdown",
      "source": [
        "- Bioenergia\n",
        "- Chemical Energy\n",
        "- Electrical Energy\n",
        "- Energy Systems\n",
        "- Energy Storage\n",
        "- Geomtermanl Energy\n",
        "- Hydrogen\n",
        "- Fuel Cells\n",
        "- Solar Energy\n",
        "- Water Energy\n",
        "- Wind Energy\n",
        "- New Energy Sources\n",
        "- Energy Convertion Technoogies\n",
        "- Power Systems\n",
        "- Energy Distribution Systems\n",
        "- Applied Energy Materials\n",
        "- Thermal Science\n",
        "- Laser Technologies\n",
        "- Grid Integration\n",
        "- Nucler Energy\n",
        "- Electric Power\n",
        "- Smart Grids\n",
        "- Carbon Capture and Storage\n",
        "- Renewable Energy\n",
        "- Energy Policy and Economics\n",
        "  - Energy Demand Forecasting\n",
        "  - Energy System Resilience\n",
        "  -\n",
        "\n",
        "\n",
        "- Computational Science Lab  - Attach Theoretical Problems in Energy Research\n",
        "- Carbon Technology\n",
        "- Energy-Efficient Buildings\n",
        "-\n",
        "- ..."
      ],
      "metadata": {
        "id": "fPwdiXFmC9Xg"
      }
    },
    {
      "cell_type": "markdown",
      "source": [
        "## Referencias"
      ],
      "metadata": {
        "id": "amrjGxKhNXVm"
      }
    }
  ]
}