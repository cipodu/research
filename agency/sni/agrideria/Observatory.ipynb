{
  "nbformat": 4,
  "nbformat_minor": 0,
  "metadata": {
    "colab": {
      "provenance": [],
      "authorship_tag": "ABX9TyNKnwSKj6a7gIibnxmpjQMf",
      "include_colab_link": true
    },
    "kernelspec": {
      "name": "python3",
      "display_name": "Python 3"
    },
    "language_info": {
      "name": "python"
    }
  },
  "cells": [
    {
      "cell_type": "markdown",
      "metadata": {
        "id": "view-in-github",
        "colab_type": "text"
      },
      "source": [
        "<a href=\"https://colab.research.google.com/github/cipodu/research/blob/main/agency/sni/agrideria/Observatory.ipynb\" target=\"_parent\"><img src=\"https://colab.research.google.com/assets/colab-badge.svg\" alt=\"Open In Colab\"/></a>"
      ]
    },
    {
      "cell_type": "markdown",
      "source": [
        "# Agrideria\n",
        "\n",
        "> Realizar proyectos de investigación y desarrollo de tecnologías agrícolas con el objetivo de modernizar y transformar el ecosistema agroindustrial dominicano.\n",
        "\n",
        "> Combine basic and apply research to combine agriculture innovations that enhace the national economy."
      ],
      "metadata": {
        "id": "XDP_B2mrY9ij"
      }
    },
    {
      "cell_type": "markdown",
      "source": [
        "## Modelos de Negocio\n",
        "\n",
        "> ..."
      ],
      "metadata": {
        "id": "6yB_Uwr4qvQk"
      }
    },
    {
      "cell_type": "markdown",
      "source": [
        "## Modelo de Financiamiento\n",
        "\n",
        "..."
      ],
      "metadata": {
        "id": "ave8v2Neqtls"
      }
    },
    {
      "cell_type": "markdown",
      "source": [
        "## Objetivos Generales"
      ],
      "metadata": {
        "id": "X66jOxUOqsIM"
      }
    },
    {
      "cell_type": "markdown",
      "source": [
        "## Organización"
      ],
      "metadata": {
        "id": "fJ7SCSBlqqVc"
      }
    },
    {
      "cell_type": "markdown",
      "source": [
        "\n",
        "## Estrategía de Desarollo"
      ],
      "metadata": {
        "id": "Sy7Wrh0UqodF"
      }
    },
    {
      "cell_type": "markdown",
      "source": [
        "## Areas de Conocimiento\n",
        "\n",
        "- **Cultivos** - Proporcionar soluciones genéticas para mejorar el rendimiento, proteger los cultivos de las principales enfermedades y plagas de insectos, y aplicar tecnologías modernas de premejoramiento y mejoramiento para aumentar la productividad y el valor de los principales cultivos de alimentos y bebidas de Australia.\n",
        "\n",
        "- **Ganadería**: Ofrecer tecnologías genéticas y de manejo animal para transformar la cría, salud, monitoreo, nutrición, producción y sostenibilidad de los sectores ganadero.\n",
        "\n",
        "- **Acuicultura**: Ofrecer tecnologías genéticas y de manejo animal para transformar la cría, salud, monitoreo, nutrición, producción y sostenibilidad de los sectores acuícola.\n",
        "\n",
        "- **Sistemas** - Proporcionar sistemas agrícolas innovadores que mejoren la productividad agrícola y la resiliencia frente a la variabilidad económica y ambiental.\n",
        "\n",
        "- **Sostenibilidad** - Ofrecer caminos y tecnología para sistemas agroalimentarios y fibra sostenibles e inclusivos.\n",
        "\n",
        "- **Alimentos** - Ciencia que sustenta el desarrollo y la entrega de alimentos, ingredientes alimentarios y bebidas saludables, seguros y sostenibles.\n",
        "\n",
        "- **Calidad y Estandares Alimentarios**: ...\n",
        "\n",
        "- **Salud Animal**: ..."
      ],
      "metadata": {
        "id": "QwcZHFq8qmxl"
      }
    },
    {
      "cell_type": "markdown",
      "source": [
        "## Areas de Negocios\n",
        "\n",
        "- Agronegocios: Companies involved in agriculture, including farming, agrochemicals, machinery, and equipment.\n",
        "\n",
        "- Industria maderera: Empresas involucradas en la producción, procesamiento y distribución de productos de madera y derivados.\n",
        "\n",
        "- Alimentos y bebidas: Empresas involucradas en la producción, procesamiento, envasado y distribución de alimentos y bebidas.\n",
        "\n",
        "- Farmacéutica: Empresas involucradas en productos farmacéuticos, especialmente aquellas interesadas en productos naturales, descubrimiento y desarrollo de medicamentos.\n",
        "\n",
        "- Biotecnología: Empresas involucradas en biotecnología, especialmente aquellas que trabajan en biotecnología agrícola, biocombustibles y productos biobasados."
      ],
      "metadata": {
        "id": "X4fztv39qkfF"
      }
    },
    {
      "cell_type": "markdown",
      "source": [
        "## Centros de Investigación\n",
        "\n",
        "- Laboratorio Mayor de Veterinaria\n",
        "\n",
        "- Laboratorio Mayor de Tecnoagricultura\n",
        "\n",
        "- **Laboratorio Mayor de Ciencias de los Cultivos**: Estos laboratorios se enfocan en mejorar las variedades de cultivos mediante la reproducción, la ingeniería genética y la biotecnología.\n",
        "\n",
        "- Laboratorio Mayor de Ciencias Computacionales\n",
        "\n",
        "- **Laboratorio Mayor en Ciencias del Suelo**: Laboratorios que estudian la salud del suelo, la fertilidad y las prácticas de manejo para mejorar los rendimientos de los cultivos y la sostenibilidad.\n",
        "\n",
        "- **Laboratorios Mayor de Fitopatología**: Laboratorios enfocados en comprender\n",
        "y controlar las enfermedades de las plantas mediante estrategias genéticas, biológicas y de manejo.\n",
        "\n",
        "- **Laboratorios Mayor de Entomología**: Laboratorios que estudian los insectos y su impacto en los cultivos, así como el desarrollo de estrategias de manejo integrado de plagas.\n",
        "\n",
        "- **Laboratorio Mayor de Sensores**: Laboratorios que utilizan imágenes de satélite y sistemas de información geográfica para monitorear y gestionar paisajes agrícolas.\n",
        "\n",
        "- **Laboratorio Mayor de Robótica Agrícola**\n",
        "\n",
        "- **Laboratorio de Maquinaria Agricola**\n",
        "\n",
        "- **Laboratorio Mayor de Economía Agrícola**\n",
        "\n",
        "- **Laboratorio Mayor de Agroquímica**\n",
        "\n",
        "- **Laboratorio Mayor de Agrobiotecnología**\n",
        "\n",
        "- **Laboratorio Mayor de Tecnología Forestal**\n",
        "\n",
        "- **Laboratioro Mayor de Silvicultura**\n",
        "\n",
        "- **Laboratorio Mayor de Sistema de Información Geográfica**\n",
        "\n",
        "- **Laboratorio Mayor de Riesgos Climaticos**\n",
        "\n",
        "- **Laboratorio Mayor de Sistemas de Cultivos**\n",
        "\n",
        "- **Laboratorio Mayor de Ciencia de Alimentos**:  Laboratorios enfocados en la seguridad alimentaria, la calidad y las técnicas de procesamiento para mejorar la seguridad alimentaria y los productos de valor agregado.\n",
        "\n",
        "- **Laboratorio Mayor de Irrigation**\n",
        "\n",
        "- **Laboratorio Mayor de Agricultura Urbana**\n",
        "\n",
        "- **Laboratorio Mayor de Acuicultura**: Laboratorio enfocado en estudios sobre alimentación de los peces, gestion de calidad del agua, mejoramiento genético,  enfermedades, tecnología acuática.\n",
        "\n",
        "- **Laboratorios Mayor de Acuaponia** y Acuicultura Integrada: La investigación en esta área se centra en sistemas integrados que combinan la acuicultura con la hidroponía o la agricultura, creando sistemas sostenibles de producción de alimentos.\n",
        "\n"
      ],
      "metadata": {
        "id": "JGTP0a2ImM56"
      }
    },
    {
      "cell_type": "markdown",
      "source": [
        "## Referencias\n",
        "\n",
        "- [Embrapa](https://www.embrapa.br/)\n",
        "\n",
        "- [National Institute for Agricultural Research (INRAE)](https://www.inrae.fr/en)\n",
        "\n",
        "- [El Instituto Nacional de Investigación y Tecnología Agraria y Alimentaria (INIA)](https://www.inia.es/Pages/Home.aspx)\n",
        "\n",
        "- [Agricultural Research Service](https://www.ars.usda.gov/)\n",
        "\n",
        "- Instituto Nacional de Tecnología Agropecuaria (INTA)\n",
        "\n",
        "- Rothamsted Research\n",
        "\n",
        "- Agriculture and Agri-Food Canada (AAFC)\n",
        "\n",
        "- CSIRO Agriculture and Food\n",
        "\n",
        "- Wageningen University & Research\n",
        "\n",
        "- AgrEpi-Center\n",
        "\n",
        "- [Precision agriculture aka smart](https://en.wikipedia.org/wiki/Precision_agriculture)\n",
        "\n",
        "- Forest Products Laboratory\n",
        "\n",
        "- [Ingeniería de montes](https://es.wikipedia.org/wiki/Ingenier%C3%ADa_de_montes)\n",
        "\n",
        "- [Geographic information system](https://en.wikipedia.org/wiki/Geographic_information_system)\n",
        "\n",
        "- [Digital agriculture](https://en.wikipedia.org/wiki/Digital_agriculture)\n",
        "\n",
        "- [Cultivating Tomorrow: Israeli Ingenuity in Agricultural Technology](https://itrade.gov.il/usa/cultivating-tomorrow-israeli-ingenuity-in-agricultural-technology/)"
      ],
      "metadata": {
        "id": "leb3QF9bhg5D"
      }
    }
  ]
}