{
  "nbformat": 4,
  "nbformat_minor": 0,
  "metadata": {
    "colab": {
      "provenance": [],
      "authorship_tag": "ABX9TyO8ltAJYsY5yVyCJK3/cXqZ",
      "include_colab_link": true
    },
    "kernelspec": {
      "name": "python3",
      "display_name": "Python 3"
    },
    "language_info": {
      "name": "python"
    }
  },
  "cells": [
    {
      "cell_type": "markdown",
      "metadata": {
        "id": "view-in-github",
        "colab_type": "text"
      },
      "source": [
        "<a href=\"https://colab.research.google.com/github/cipodu/research/blob/main/agency/sni/espacieria/Observatory.ipynb\" target=\"_parent\"><img src=\"https://colab.research.google.com/assets/colab-badge.svg\" alt=\"Open In Colab\"/></a>"
      ]
    },
    {
      "cell_type": "markdown",
      "source": [
        "> Space research for **aeronautics**,  **sensing**, **telecommunications**, **defense**, and **exploration**.\n",
        "\n",
        "Space Tecnology\n",
        "Space Research\n",
        "\n",
        "---\n",
        "\n",
        "- Materials Science\n",
        "- Flight Research Center\n",
        "- Propulsion Systems\n",
        "- Spacecraft Power\n",
        "- Launch System\n",
        "- Laboratoroin Mayor de Luanch / Despegues\n",
        "- aerodynamics\n",
        "- structures\n",
        "- human spaceflight training,\n",
        "- robotic spacecraft missions,\n",
        "- Goddard Space Flight Center: Situated in Greenbelt, Maryland, Goddard is NASA's lead center for space science.\n",
        "- ...\n",
        "\n",
        "---\n",
        "\n",
        "1. Propulsion Systems: Researching and developing advanced propulsion technologies for spacecraft propulsion, including chemical, electric, nuclear, and alternative propulsion methods.\n",
        "2. Spacecraft Design and Engineering: Advancing spacecraft design methodologies, materials, and structural engineering to enhance spacecraft performance, durability, and reliability.\n",
        "3. Space Exploration Robotics: Developing robotic systems and autonomous technologies for space exploration missions, including planetary rovers, landers, and autonomous spacecraft operations.\n",
        "4. Space Communications and Navigation: Researching communication protocols, data transmission techniques, and navigation systems for spacecraft to facilitate efficient communication and navigation in deep space.\n",
        "5. Spacecraft Power Systems: Investigating advanced power generation and storage technologies, such as solar arrays, nuclear power systems, and energy-efficient systems, to provide reliable power for spacecraft missions.\n",
        "6. Space Environmental Protection: Studying the effects of space environment on spacecraft materials and systems, and developing technologies to mitigate radiation exposure, microgravity effects, and space debris risks.\n",
        "7. Space Resource Utilization: Exploring methods for extracting and utilizing resources from celestial bodies, such as water ice, minerals, and gases, to support long-duration space missions and enable sustainable space exploration.\n",
        "8. Space Instrumentation and Sensors: Developing advanced sensors, instruments, and imaging technologies for remote sensing, scientific exploration, and observation of celestial objects and phenomena.\n",
        "9. Space Habitats and Life Support Systems: Researching technologies for designing and building habitats for long-duration human space missions, as well as developing life support systems to sustain astronauts in space environments.\n",
        "10. Space Debris Mitigation and Cleanup: Investigating methods for tracking, mitigating, and removing space debris to ensure the safety of spacecraft and satellites in Earth orbit and beyond.\n",
        "\n",
        "## References\n",
        "\n",
        "- [European Space Agency](https://www.esa.int/)\n",
        "- [Canadian Space Agency](https://www.asc-csa.gc.ca/eng/)\n",
        "- [NASA:  National Space Agency](https://plus.nasa.gov/)\n",
        "- Jet Propulsion Laboratory (JPL)\n",
        "- Ames Research Center\n",
        "- European Space Research and Technology Centre\n",
        "- German Aerospace Center (DLR)\n",
        "- …"
      ],
      "metadata": {
        "id": "pHRRZzZvch4x"
      }
    }
  ]
}