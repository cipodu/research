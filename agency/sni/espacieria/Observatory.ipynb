{
  "nbformat": 4,
  "nbformat_minor": 0,
  "metadata": {
    "colab": {
      "provenance": [],
      "authorship_tag": "ABX9TyMBBKr79lsFwOcYQudjZW6c",
      "include_colab_link": true
    },
    "kernelspec": {
      "name": "python3",
      "display_name": "Python 3"
    },
    "language_info": {
      "name": "python"
    }
  },
  "cells": [
    {
      "cell_type": "markdown",
      "metadata": {
        "id": "view-in-github",
        "colab_type": "text"
      },
      "source": [
        "<a href=\"https://colab.research.google.com/github/cipodu/research/blob/main/agency/sni/espacieria/Observatory.ipynb\" target=\"_parent\"><img src=\"https://colab.research.google.com/assets/colab-badge.svg\" alt=\"Open In Colab\"/></a>"
      ]
    },
    {
      "cell_type": "markdown",
      "source": [
        "> En **espaciería**, la investigación espacial entrelaza la ciencia básica y aplicada en **aeronáutica**, **sensores**, **telecomunicaciones**, **defensa** y **exploración**. Este grandioso tapiz no solo impulsa el crecimiento económico, sino que también profundiza nuestra comprensión del vasto cosmos, revelando la intrincada belleza del universo.\n",
        "\n",
        "\n",
        "\n"
      ],
      "metadata": {
        "id": "pHRRZzZvch4x"
      }
    },
    {
      "cell_type": "markdown",
      "source": [
        "# Modelos de Negocio\n",
        "\n",
        "- **I+D como Servicio**: Problemas de Investigación → Soluciones de Investigación.  \n",
        "- **Incubadora**: Problemas de Investigación → Spin-off.  \n",
        "- Servicios profesionales de inspección, calibración, medición, prueba y verificación.  \n",
        "- Transferencia Tecnológica  \n",
        "- Investigación Conjunta  \n",
        "- **Servicios de Consultoría**: NLR ofrece servicios de consultoría en diversas áreas relacionadas con la aeronáutica, como aerodinámica, estructuras, sistemas y gestión del tráfico aéreo. Estos servicios pueden incluir estudios de viabilidad, asesoramiento técnico y orientación estratégica.  \n",
        "- **Servicios de Pruebas y Certificación**: NLR opera instalaciones de prueba para sistemas y componentes aeroespaciales, incluidos túneles de viento, simuladores de vuelo y cámaras ambientales de prueba. Las empresas y organizaciones pagan por servicios de pruebas y certificación para garantizar que sus productos cumplan con las normas y regulaciones de la industria.\n",
        "- **Servicios de Lanzamiento**: SpaceX ofrece servicios de lanzamiento de satélites comerciales y gubernamentales utilizando sus cohetes Falcon 9 y Falcon Heavy. Compite en el mercado global de lanzamientos, ofreciendo un acceso relativamente económico al espacio en comparación con los proveedores tradicionales.\n",
        "- **Desarrollo de Satélites**: Además de la constelación Starlink, SpaceX está involucrada en el desarrollo de tecnologías avanzadas de satélites, como el bus de satélites pequeños para la misión Space Test Program-3 (STP-3) del Departamento de Defensa de los Estados Unidos."
      ],
      "metadata": {
        "id": "Bq5ESKWsradq"
      }
    },
    {
      "cell_type": "markdown",
      "source": [
        "# Objetivos Generales\n"
      ],
      "metadata": {
        "id": "HYpNLgeesc1Z"
      }
    },
    {
      "cell_type": "markdown",
      "source": [
        "\n",
        "- Realizar I+D en áreas que promuevan la competitividad económica y tecnológica.\n",
        "\n",
        "- Facilitar la verificacion,\n",
        "\n",
        "- Ayudar en la absorción de tecnología e integración en la economía del país a través de adaptaciones simples.\n",
        "\n",
        "- Facilitar la localización tecnológica.\n",
        "\n",
        "- Ayudar al país a ponerse al día en un subconjunto de tecnologías con los líderes.\n",
        "\n",
        "- Participar en investigación de vanguardia en áreas con potencial para convertirse en motores de crecimiento futuro.\n",
        "\n",
        "- Servir como el eslabón intermedio entre la investigación universitaria a largo plazo y la investigación industrial aplicada.\n",
        "\n",
        "- Actuar como un centro de colaboración entre empresas de la industria para desarrollar conglomerados más competitivos y resilientes.\n",
        "\n",
        "- Ayudar a las empresas a desarrollar su capacidad de I+D.\n",
        "\n",
        "- Facilitar el flujo de conocimiento al permitir que los investigadores se muevan de ida y vuelta entre empresas y laboratorios de I+D.\n",
        "\n",
        "- Apoyar a las PYMEs en fomentar la innovación.\n",
        "\n",
        "- Servir de modelo para las empresas en términos de productividad y mejores prácticas.\n",
        "\n",
        "- Funcionar como un centro para la recepción y distribución de conocimientos/prácticas en el sector industrial.\n"
      ],
      "metadata": {
        "id": "L5Eq3Us3sfR3"
      }
    },
    {
      "cell_type": "markdown",
      "source": [
        "# Modelo de Financiamiento\n",
        "\n",
        "- Gobierno,\n",
        "- Industria y\n",
        "- Donaciones.\n"
      ],
      "metadata": {
        "id": "-asL9tBpsWIf"
      }
    },
    {
      "cell_type": "markdown",
      "source": [
        "# Organización\n",
        "\n",
        "- \"Por Hacer\" 👁\n"
      ],
      "metadata": {
        "id": "64yUaCrtsxct"
      }
    },
    {
      "cell_type": "markdown",
      "source": [
        "# Estrategía de Desarollo"
      ],
      "metadata": {
        "id": "PvG_WzSDs2tT"
      }
    },
    {
      "cell_type": "markdown",
      "source": [
        "- \"Por Hacer\" 👁"
      ],
      "metadata": {
        "id": "p9KBXwD5s3fz"
      }
    },
    {
      "cell_type": "markdown",
      "source": [
        "## Areas de Conocimiento\n",
        "\n",
        "- \"Por Hacer\" 👁\n"
      ],
      "metadata": {
        "id": "x0F2oMFetIUA"
      }
    },
    {
      "cell_type": "markdown",
      "source": [
        "## Areas de Negocios\n",
        "\n",
        "- Aviación\n",
        "- Exploración Espacial\n",
        "- Defensa\n",
        "- Servicios Espaciales\n",
        "- Telecomunicaciones\n",
        "- Satélites Comerciales\n",
        "- Industria Aeroespacial\n",
        "- Analisis de Datos Satelitales"
      ],
      "metadata": {
        "id": "GVtHuoattFSR"
      }
    },
    {
      "cell_type": "markdown",
      "source": [
        "# Laboratorios y Centros"
      ],
      "metadata": {
        "id": "FTbpLH4stbc_"
      }
    },
    {
      "cell_type": "markdown",
      "source": [
        "\n",
        "- Materials Science Lab\n",
        "- Propulsion Lab\n",
        "- Computational Sciences Lab\n",
        "- Structures Lab\n",
        "- Aerodynamics Lab\n",
        "- Intelligent Systems Lab\n",
        "- Robotics Lab\n",
        "- Spacecraft Lab\n",
        "- Spacecraft Power Systems Lab\n",
        "- Space Systems Lab\n",
        "- Human Factors Lab\n",
        "- Aerospace Systems\n",
        "- Mathematical Lab: Control, Dynamical Systems, Estimation\n",
        "- Satellite Systems Lab\n",
        "- Thermal Control Lab\n",
        "- In-Space Manufacturing Lab\n",
        "- Space Navigation Lab\n",
        "- Communication Systems Lab\n",
        "- Launch Systems Lab\n",
        "- Bioastronautics Lab\n",
        "- Aerospace Vehicles Lab\n",
        "- Space Physics Lab\n",
        "- Turbomachinery Lab\n",
        "- Avionics Lab\n",
        "- ...\n",
        "\n",
        "\n",
        "\n",
        "Testing Centers:\n",
        "-\n",
        "\n",
        "Infra:\n",
        "- Super Computing Center\n",
        "- human spaceflight training,"
      ],
      "metadata": {
        "id": "dKsc0sWPthcA"
      }
    },
    {
      "cell_type": "markdown",
      "source": [
        "## Referencias\n",
        "\n",
        "- [European Space Agency](https://www.esa.int/)\n",
        "- [Canadian Space Agency](https://www.asc-csa.gc.ca/eng/)\n",
        "- [NASA:  National Space Agency](https://plus.nasa.gov/)\n",
        "- Jet Propulsion Laboratory (JPL)\n",
        "- Ames Research Center\n",
        "- European Space Research and Technology Centre\n",
        "- German Aerospace Center (DLR)\n",
        "- Korea Aerospace Research Institute\n",
        "- UK Space Agency\n",
        "- CSA (Canadian Space Agency)\n",
        "- The Grainger College of Engineering - Aerospace Engineering\n",
        "  https://aerospace.illinois.edu/research/research-areas\n",
        "- [Royal Netherlands Aerospace Centre](https://en.wikipedia.org/wiki/Royal_Netherlands_Aerospace_Centre)\n",
        "- [University of Toronto Institute for Aerospace Studies (UTIAS)](https://www.utias.utoronto.ca/)\n",
        "- [Aerospace Engineering](https://en.wikipedia.org/wiki/Aerospace_engineering)\n",
        "- [Space Exploration Technologies Corp.](https://www.spacex.com/)\n",
        "- [Swedish Institute for Space Physics](https://www.irf.se/en/)\n",
        "- [Swedish National Space Agency](https://www.rymdstyrelsen.se/en)\n",
        "- [Swedish Space Corporation](https://en.wikipedia.org/wiki/Swedish_Space_Corporation)\n",
        "- ..."
      ],
      "metadata": {
        "id": "rY6hD0mLpipm"
      }
    }
  ]
}