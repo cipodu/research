{
  "nbformat": 4,
  "nbformat_minor": 0,
  "metadata": {
    "colab": {
      "provenance": [],
      "authorship_tag": "ABX9TyPrvJJqxuBK2IrXaxh0qnMl",
      "include_colab_link": true
    },
    "kernelspec": {
      "name": "python3",
      "display_name": "Python 3"
    },
    "language_info": {
      "name": "python"
    }
  },
  "cells": [
    {
      "cell_type": "markdown",
      "metadata": {
        "id": "view-in-github",
        "colab_type": "text"
      },
      "source": [
        "<a href=\"https://colab.research.google.com/github/cipodu/research/blob/main/agency/Seminarium/Seminario_en_Ciencias_%C3%81plicadas.ipynb\" target=\"_parent\"><img src=\"https://colab.research.google.com/assets/colab-badge.svg\" alt=\"Open In Colab\"/></a>"
      ]
    },
    {
      "cell_type": "markdown",
      "source": [
        "> …\n",
        ">\n",
        "\n",
        "## References\n",
        "\n",
        "- [Applied Science](https://en.wikipedia.org/wiki/Applied_science)\n",
        "- …"
      ],
      "metadata": {
        "id": "YgY_03G2vU6N"
      }
    }
  ]
}