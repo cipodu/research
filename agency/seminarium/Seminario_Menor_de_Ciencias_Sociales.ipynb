{
  "nbformat": 4,
  "nbformat_minor": 0,
  "metadata": {
    "colab": {
      "provenance": [],
      "authorship_tag": "ABX9TyPFiUIgqCx0ZWm9xJSYPeb2",
      "include_colab_link": true
    },
    "kernelspec": {
      "name": "python3",
      "display_name": "Python 3"
    },
    "language_info": {
      "name": "python"
    }
  },
  "cells": [
    {
      "cell_type": "markdown",
      "metadata": {
        "id": "view-in-github",
        "colab_type": "text"
      },
      "source": [
        "<a href=\"https://colab.research.google.com/github/cipodu/research/blob/main/agency/Seminarium/Seminario_Menor_de_Ciencias_Sociales.ipynb\" target=\"_parent\"><img src=\"https://colab.research.google.com/assets/colab-badge.svg\" alt=\"Open In Colab\"/></a>"
      ]
    },
    {
      "cell_type": "markdown",
      "source": [
        "> …\n",
        "\n",
        "[Seminario Antropologia](https://www.notion.so/Seminario-Antropologia-66ef11fee71b4797b55584c06f06542b?pvs=21)\n",
        "\n",
        "[Seminario Economia](https://www.notion.so/Seminario-Economia-dd3b7ab3a50b4acbb837e827be0840fa?pvs=21)\n",
        "\n",
        "[Seminario Linguistica](https://www.notion.so/Seminario-Linguistica-488f22ba5c8b4498b47b9a9ce7228abb?pvs=21)\n",
        "\n",
        "[Seminario Política](https://www.notion.so/Seminario-Pol-tica-d4e519046deb466b91bc57632b068c5b?pvs=21)\n",
        "\n",
        "[Seminario Psicologia](https://www.notion.so/Seminario-Psicologia-0bdb642433754636a13df7a51acf8eaa?pvs=21)"
      ],
      "metadata": {
        "id": "VZAm5bgnjltn"
      }
    }
  ]
}