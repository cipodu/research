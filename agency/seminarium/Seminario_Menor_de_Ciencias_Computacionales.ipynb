{
  "nbformat": 4,
  "nbformat_minor": 0,
  "metadata": {
    "colab": {
      "provenance": [],
      "authorship_tag": "ABX9TyOQEOml6clK5oPeWqzVHg/5",
      "include_colab_link": true
    },
    "kernelspec": {
      "name": "python3",
      "display_name": "Python 3"
    },
    "language_info": {
      "name": "python"
    }
  },
  "cells": [
    {
      "cell_type": "markdown",
      "metadata": {
        "id": "view-in-github",
        "colab_type": "text"
      },
      "source": [
        "<a href=\"https://colab.research.google.com/github/cipodu/research/blob/main/agency/Seminarium/Seminario_Menor_de_Ciencias_Computacionales.ipynb\" target=\"_parent\"><img src=\"https://colab.research.google.com/assets/colab-badge.svg\" alt=\"Open In Colab\"/></a>"
      ]
    },
    {
      "cell_type": "markdown",
      "source": [
        "# Seminario Menor de Ciencias Computacionales\n",
        "\n",
        "> ...\n",
        "\n",
        "## References\n",
        "\n",
        "- [Computational Science](https://en.wikipedia.org/wiki/Computational_science)\n",
        "- [Computer Science](https://en.wikipedia.org/wiki/Computer_science)\n",
        "- …"
      ],
      "metadata": {
        "id": "eDcIuyQBbr9J"
      }
    }
  ]
}