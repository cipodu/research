{
  "nbformat": 4,
  "nbformat_minor": 0,
  "metadata": {
    "colab": {
      "provenance": [],
      "authorship_tag": "ABX9TyMQqKlaw9X0khghp8ufDiOv",
      "include_colab_link": true
    },
    "kernelspec": {
      "name": "python3",
      "display_name": "Python 3"
    },
    "language_info": {
      "name": "python"
    }
  },
  "cells": [
    {
      "cell_type": "markdown",
      "metadata": {
        "id": "view-in-github",
        "colab_type": "text"
      },
      "source": [
        "<a href=\"https://colab.research.google.com/github/cipodu/research/blob/main/agency/Seminarium.ipynb\" target=\"_parent\"><img src=\"https://colab.research.google.com/assets/colab-badge.svg\" alt=\"Open In Colab\"/></a>"
      ]
    },
    {
      "cell_type": "markdown",
      "source": [
        "# Seminarium"
      ],
      "metadata": {
        "id": "yVj-uYlpWNjZ"
      }
    },
    {
      "cell_type": "markdown",
      "source": [
        "> Teach, Think, Ask, Research, Share, Refine, Apply !!!\n",
        ">\n",
        "\n",
        "> Intern.\n",
        ">\n",
        "\n",
        "> The ones that failed to maintains the standards of learning are out → and have to move the another seminary or the technical school → later they can take a **preparatory class**.\n",
        ">\n",
        "\n",
        "> 6 Years of Training.\n",
        ">\n",
        "\n",
        "> Entry: Exams + Interviews + Evaluation Period !!!\n",
        ">\n",
        "\n",
        "> Training of young Reserchers → Research From Day One.\n",
        ">\n",
        "\n",
        "> Seminario de Jovenes Investigadores.\n",
        ">\n",
        "\n",
        "> Canteras de Cientificos e Ingenieros Investigadores.\n",
        ">\n",
        "\n",
        "> Expose → Explore →  Ask → Research.\n",
        ">\n",
        "\n",
        "> Espontaneidad inculta → Flexibilidad Preparada.\n",
        ">\n",
        "\n",
        "> Clase en que se reúne el profesor con los discípulos para realizar trabajos de investigación.\n",
        ">\n",
        "\n",
        "> Intern Students →  For Research Training in Science and Engeniering.\n",
        ">\n",
        "\n",
        "> Move students to general or technical education in case that they don’t meet the requirements.\n",
        ">\n",
        "\n",
        "## References\n",
        "\n",
        "- [Interdisciplinarity](https://en.wikipedia.org/wiki/Interdisciplinarity)\n",
        "- [Science](https://en.wikipedia.org/wiki/Science)\n",
        "- [Applied Science](https://en.wikipedia.org/wiki/Applied_science)\n",
        "- Wolfram High School Summer Research Program\n",
        "https://education.wolfram.com/summer-research-high-school/\n",
        "\n",
        "[Seminarium Model](https://www.notion.so/Seminarium-Model-38ca0a67c48242f4bd7fbcba9df7fb99?pvs=21)\n",
        "\n",
        "[Seminario Menor Sistemas Complejos](https://www.notion.so/Seminario-Menor-Sistemas-Complejos-a35684cd4fc14fc1adb0fb1fe8ee5679?pvs=21)\n",
        "\n",
        "[Seminario Menor  de Ciencias Computacionales](https://www.notion.so/Seminario-Menor-de-Ciencias-Computacionales-f08cda1a87624fb1af39f74ac6e9facf?pvs=21)\n",
        "\n",
        "[Colegio Menor en Ciencias Matemáticas](https://www.notion.so/Colegio-Menor-en-Ciencias-Matem-ticas-76edeab9e2a34cb3a8f627b11c4d4088?pvs=21)\n",
        "\n",
        "[Colegio Menor en Sistemas Inteligentes](https://www.notion.so/Colegio-Menor-en-Sistemas-Inteligentes-3ee1e4a61e0a4ec6b1494158b786deda?pvs=21)\n",
        "\n",
        "[Seminario Menor en Filosofia y Lógica](https://www.notion.so/Seminario-Menor-en-Filosofia-y-L-gica-1b05f650d122406ea0094a7d3e964ca9?pvs=21)\n",
        "\n",
        "[Seminario Menor en Ciencias Físicas](https://www.notion.so/Seminario-Menor-en-Ciencias-F-sicas-49b9780e01ba4917b15a40b294dbe27a?pvs=21)\n",
        "\n",
        "[Seminario Menor en Ciencias de la Vida](https://www.notion.so/Seminario-Menor-en-Ciencias-de-la-Vida-c53a2079457b4ba2ad7326d3f1b676fc?pvs=21)\n",
        "\n",
        "[Seminario Menor de Artes](https://www.notion.so/Seminario-Menor-de-Artes-a2ded36364dc4d5099fb99e1d4ba1ced?pvs=21)\n",
        "\n",
        "[Seminario Menor de Humanidades](https://www.notion.so/Seminario-Menor-de-Humanidades-880b393781ee422889645e7438e5143a?pvs=21)\n",
        "\n",
        "[Seminario Menor de Ciencias Sociales](https://www.notion.so/Seminario-Menor-de-Ciencias-Sociales-67b038c4e2aa41abadb6da6cad5170a3?pvs=21)\n",
        "\n",
        "[Seminario Menor de Negocios](https://www.notion.so/Seminario-Menor-de-Negocios-7fa44e517ea6442990cc9823a46b6297?pvs=21)\n",
        "\n",
        "[Seminario Menor Ars Gubernandi](https://www.notion.so/Seminario-Menor-Ars-Gubernandi-eb4c52dffdbc445cb5c746f74602b22e?pvs=21)\n",
        "\n",
        "[Seminario Menor Técnico e Industrial](https://www.notion.so/Seminario-Menor-T-cnico-e-Industrial-b9e3f4b251674fa5a4aa1e53ad7ee478?pvs=21)\n",
        "\n",
        "[Semanario Menor en Ciencias Agronomicas](https://www.notion.so/Semanario-Menor-en-Ciencias-Agronomicas-76e81ce3aecc4367b1f559d35e543a62?pvs=21)\n",
        "\n",
        "[Seminario Menor en Ciencias Aeroespaciales](https://www.notion.so/Seminario-Menor-en-Ciencias-Aeroespaciales-eeaf6e6499854db081d52f17389c2b72?pvs=21)\n",
        "\n",
        "[Seminario Menor de Robótica](https://www.notion.so/Seminario-Menor-de-Rob-tica-908192a03a59478a9f9b238699ad01f8?pvs=21)\n",
        "\n",
        "[Seminario Menor de Ciencias Navales](https://www.notion.so/Seminario-Menor-de-Ciencias-Navales-acd605d681dc480589c1a67a136dca35?pvs=21)\n",
        "\n",
        "[Seminario Menor de Ingenieria de Control](https://www.notion.so/Seminario-Menor-de-Ingenieria-de-Control-ad817bc7a01343f2ab80d14e0d47db53?pvs=21)\n",
        "\n",
        "[Seminario Menor de Ingenieros Estructurales](https://www.notion.so/Seminario-Menor-de-Ingenieros-Estructurales-967a50d55bbe45afa87a3fab4964d5e1?pvs=21)\n",
        "\n",
        "[Seminario Menor de Medicina](https://www.notion.so/Seminario-Menor-de-Medicina-55390dc172c049d0befd17f4882e5b86?pvs=21)\n",
        "\n",
        "[Seminario Menor en Historia](https://www.notion.so/Seminario-Menor-en-Historia-bbe84bfae59340d28426ec32d76119db?pvs=21)\n",
        "\n",
        "[Seminario Menor de Ciencias Energéticas](https://www.notion.so/Seminario-Menor-de-Ciencias-Energ-ticas-116c35fa6ce245fa8081369a8c63cbac?pvs=21)\n",
        "\n",
        "[Seminario Menor en Ciencias de Materiales](https://www.notion.so/Seminario-Menor-en-Ciencias-de-Materiales-b9eb915d64744c6e9e469673752e6255?pvs=21)\n",
        "\n",
        "[Seminario Menor de Neurosciencias](https://www.notion.so/Seminario-Menor-de-Neurosciencias-8199d3c1045d41819aac119442b72481?pvs=21)\n",
        "\n",
        "[Seminario en Ciencias Áplicadas](https://www.notion.so/Seminario-en-Ciencias-plicadas-ec2d146bf50c4cf790a04815b0efd48e?pvs=21)"
      ],
      "metadata": {
        "id": "_hcE0YhAWMfS"
      }
    }
  ]
}
