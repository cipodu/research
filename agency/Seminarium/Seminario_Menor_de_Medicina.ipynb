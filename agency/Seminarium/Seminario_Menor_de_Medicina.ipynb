{
  "nbformat": 4,
  "nbformat_minor": 0,
  "metadata": {
    "colab": {
      "provenance": [],
      "authorship_tag": "ABX9TyMm18+Lxw0CZQMpkinFjdK6",
      "include_colab_link": true
    },
    "kernelspec": {
      "name": "python3",
      "display_name": "Python 3"
    },
    "language_info": {
      "name": "python"
    }
  },
  "cells": [
    {
      "cell_type": "markdown",
      "metadata": {
        "id": "view-in-github",
        "colab_type": "text"
      },
      "source": [
        "<a href=\"https://colab.research.google.com/github/cipodu/research/blob/main/agency/Seminarium/Seminario_Menor_de_Medicina.ipynb\" target=\"_parent\"><img src=\"https://colab.research.google.com/assets/colab-badge.svg\" alt=\"Open In Colab\"/></a>"
      ]
    },
    {
      "cell_type": "markdown",
      "source": [
        "# Seminario Menor de Medicina\n",
        "\n",
        "| ...\n",
        "\n",
        "## References\n",
        "\n",
        "[Seminaro  Veterinaria](https://www.notion.so/Seminaro-Veterinaria-f2605ed54088482ea2b90175502c3ad2?pvs=21)\n",
        "\n",
        "- [Medicine](https://en.wikipedia.org/wiki/Medicine)\n",
        "- [Health](https://en.wikipedia.org/wiki/Health)\n",
        "- [Biomedical Model](https://en.wikipedia.org/wiki/Biomedical_model)\n",
        "- [Biomedicine](https://en.wikipedia.org/wiki/Biomedicine)\n",
        "- …"
      ],
      "metadata": {
        "id": "QNbLmQt2uFK5"
      }
    }
  ]
}