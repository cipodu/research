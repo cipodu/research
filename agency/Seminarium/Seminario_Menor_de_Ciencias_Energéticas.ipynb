{
  "nbformat": 4,
  "nbformat_minor": 0,
  "metadata": {
    "colab": {
      "provenance": [],
      "authorship_tag": "ABX9TyMifbX/DEOzLKA7uI0CGSuS",
      "include_colab_link": true
    },
    "kernelspec": {
      "name": "python3",
      "display_name": "Python 3"
    },
    "language_info": {
      "name": "python"
    }
  },
  "cells": [
    {
      "cell_type": "markdown",
      "metadata": {
        "id": "view-in-github",
        "colab_type": "text"
      },
      "source": [
        "<a href=\"https://colab.research.google.com/github/cipodu/research/blob/main/agency/Seminarium/Seminario_Menor_de_Ciencias_Energ%C3%A9ticas.ipynb\" target=\"_parent\"><img src=\"https://colab.research.google.com/assets/colab-badge.svg\" alt=\"Open In Colab\"/></a>"
      ]
    },
    {
      "cell_type": "markdown",
      "source": [
        "> …\n",
        ">\n",
        "\n",
        "## References\n",
        "\n",
        "- [Energy Engineering](https://en.wikipedia.org/wiki/Energy_engineering)\n",
        "- …"
      ],
      "metadata": {
        "id": "mlIm_NCyuzzm"
      }
    }
  ]
}