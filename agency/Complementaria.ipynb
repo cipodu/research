{
  "nbformat": 4,
  "nbformat_minor": 0,
  "metadata": {
    "colab": {
      "provenance": [],
      "authorship_tag": "ABX9TyNT5RU2WvAJh/SUQIlWP8cG",
      "include_colab_link": true
    },
    "kernelspec": {
      "name": "python3",
      "display_name": "Python 3"
    },
    "language_info": {
      "name": "python"
    }
  },
  "cells": [
    {
      "cell_type": "markdown",
      "metadata": {
        "id": "view-in-github",
        "colab_type": "text"
      },
      "source": [
        "<a href=\"https://colab.research.google.com/github/cipodu/research/blob/main/agency/Complementaria.ipynb\" target=\"_parent\"><img src=\"https://colab.research.google.com/assets/colab-badge.svg\" alt=\"Open In Colab\"/></a>"
      ]
    },
    {
      "cell_type": "markdown",
      "source": [
        "# Complementaria\n",
        "\n",
        "> Waste the time with courses until -  they decide or **technical school**; or **preparatory classes** or what !!!\n",
        ">\n",
        "\n",
        "> Until they are 20 years old !!!\n",
        ">\n",
        "\n",
        "> A lot of human development support and psicological support is needed !!!\n",
        ">\n",
        "\n",
        "[Academia de Idiomas](https://www.notion.so/Academia-de-Idiomas-fb7a48eae41d47f2a92b7c77b9211747?pvs=21)"
      ],
      "metadata": {
        "id": "4W5su08MUftW"
      }
    }
  ]
}