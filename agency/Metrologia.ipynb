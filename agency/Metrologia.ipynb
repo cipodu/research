{
  "nbformat": 4,
  "nbformat_minor": 0,
  "metadata": {
    "colab": {
      "provenance": [],
      "authorship_tag": "ABX9TyNeW8yDTDrJbTOhu6G1AwwS",
      "include_colab_link": true
    },
    "kernelspec": {
      "name": "python3",
      "display_name": "Python 3"
    },
    "language_info": {
      "name": "python"
    }
  },
  "cells": [
    {
      "cell_type": "markdown",
      "metadata": {
        "id": "view-in-github",
        "colab_type": "text"
      },
      "source": [
        "<a href=\"https://colab.research.google.com/github/cipodu/research/blob/main/agency/Metrologia.ipynb\" target=\"_parent\"><img src=\"https://colab.research.google.com/assets/colab-badge.svg\" alt=\"Open In Colab\"/></a>"
      ]
    },
    {
      "cell_type": "markdown",
      "source": [
        "> Metrologia y Estandares !!!\n",
        ">\n",
        "\n",
        "> Pesos y Medidas.\n",
        ">\n",
        "\n",
        "## References\n",
        "\n",
        "- National Institute of Standards and Technology (NIST)\n",
        "- National Physical Laboratory (NPL)\n",
        "- National Metrology Institute of Japan (NMIJ)\n",
        "- National Measurement Institute (NMI)\n",
        "- National Research Council Canada (NRC)\n",
        "- **Korea Research Institute of Standards and Science (KRISS):** KRISS is South Korea's national metrology institute.\n",
        "- **Australian Centre for Precision Optics (ACPO):** ACPO is part of the Commonwealth Scientific and Industrial Research Organisation (CSIRO) and focuses on precision optics and measurement standards.\n",
        "- **Inmetro:** The National Institute of Metrology, Quality, and Technology in Brazil.\n",
        "- **Swiss Federal Institute of Metrology (METAS):** Switzerland's national metrology institute.\n",
        "- **National Institute of Metrology (INM):** The metrology institute in Mexico.\n",
        "\n",
        "[Laboratorio Mayor Ars Instrumentandi](https://www.notion.so/Laboratorio-Mayor-Ars-Instrumentandi-00459c59789645ac92e8e0f783462e4f?pvs=21)\n",
        "\n",
        "[Laboratorio Mayor Ars Mesura](https://www.notion.so/Laboratorio-Mayor-Ars-Mesura-9145a61655f14b3eb8db945ceeb830a4?pvs=21)\n",
        "\n",
        "[Metrology](https://www.notion.so/Metrology-bd2af278da73412d887c86745aadc5de?pvs=21)"
      ],
      "metadata": {
        "id": "XDTBXOsbbjXo"
      }
    }
  ]
}