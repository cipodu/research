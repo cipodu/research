{
  "nbformat": 4,
  "nbformat_minor": 0,
  "metadata": {
    "colab": {
      "provenance": [],
      "authorship_tag": "ABX9TyP7B+kSWv1DfcyxK4YYaSuS",
      "include_colab_link": true
    },
    "kernelspec": {
      "name": "python3",
      "display_name": "Python 3"
    },
    "language_info": {
      "name": "python"
    }
  },
  "cells": [
    {
      "cell_type": "markdown",
      "metadata": {
        "id": "view-in-github",
        "colab_type": "text"
      },
      "source": [
        "<a href=\"https://colab.research.google.com/github/cipodu/research/blob/main/agency/Servideria.ipynb\" target=\"_parent\"><img src=\"https://colab.research.google.com/assets/colab-badge.svg\" alt=\"Open In Colab\"/></a>"
      ]
    },
    {
      "cell_type": "markdown",
      "source": [
        "> Innovation in the service sector involves the creative development and implementation of new ideas, processes, technologies, or business models to enhance the quality, efficiency, and customer experience of service delivery.\n",
        ">\n",
        "\n",
        "> …\n",
        ">\n",
        "- Marketing\n",
        "- Management\n",
        "- Finance\n",
        "- Logistics\n",
        "- Tourism\n",
        "- Legal\n",
        "- Market Analysis\n",
        "- Healthcare Services\n",
        "- Education Services\n",
        "- E-commerce Services\n",
        "- Entertainment Services\n",
        "- Energy Services\n",
        "- Restaurant\n",
        "- …\n",
        "\n",
        "## References\n",
        "\n",
        "- Miles, Ian. \"Research and development (R&D) beyond manufacturing: the strange case of services R&D.\" R&d Management 37.3 (2007): 249-268.\n",
        "\n",
        "[Market Lab](https://www.notion.so/Market-Lab-7a38134032384ae8adebc34a38d76515?pvs=21)\n",
        "\n",
        "[Tourism Lab](https://www.notion.so/Tourism-Lab-31949f2404454b7497ad08e33d14b51f?pvs=21)\n",
        "\n",
        "[Consulting Lab](https://www.notion.so/Consulting-Lab-60483bd0ccd947e1876ab2538e1f3abe?pvs=21)"
      ],
      "metadata": {
        "id": "yRIGDktRbT_-"
      }
    }
  ]
}