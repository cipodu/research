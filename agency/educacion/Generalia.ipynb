{
  "nbformat": 4,
  "nbformat_minor": 0,
  "metadata": {
    "colab": {
      "provenance": [],
      "authorship_tag": "ABX9TyM7AcH2WByuT5e2MHKxWZEU",
      "include_colab_link": true
    },
    "kernelspec": {
      "name": "python3",
      "display_name": "Python 3"
    },
    "language_info": {
      "name": "python"
    }
  },
  "cells": [
    {
      "cell_type": "markdown",
      "metadata": {
        "id": "view-in-github",
        "colab_type": "text"
      },
      "source": [
        "<a href=\"https://colab.research.google.com/github/cipodu/research/blob/main/agency/Generalia.ipynb\" target=\"_parent\"><img src=\"https://colab.research.google.com/assets/colab-badge.svg\" alt=\"Open In Colab\"/></a>"
      ]
    },
    {
      "cell_type": "markdown",
      "source": [
        "# Generalia"
      ],
      "metadata": {
        "id": "CqfuBtLXRbVH"
      }
    },
    {
      "cell_type": "markdown",
      "source": [
        "> Bachiller: 6 → 12.\n",
        ">\n",
        "\n",
        "> The Graduated from the Science Lyceums  have a ticket to University.\n",
        ">\n",
        "\n",
        "> General Studies (There is Some Design Yourself)\n",
        ">\n",
        "\n",
        "1. **Harvard University's Core Curriculum**: Harvard's Core Curriculum is a set of foundational courses that all undergraduate students must take. It includes literature, philosophy, social sciences, natural sciences, and the arts classes, providing a well-rounded education.\n",
        "2. **Massachusetts Institute of Technology (MIT)’s \"Undergraduate Research Opportunities Program\" (UROP)** allows undergraduate students to engage in research projects under the mentorship of faculty members. It is a hallmark of MIT's emphasis on hands-on learning and research-driven education.\n",
        "3. **Stanford University's \"Design Your Stanford\" (DYS)**: DYS at Stanford allows students to design their academic path by choosing from various courses across disciplines. It emphasizes interdisciplinary learning and encourages students to explore diverse areas of interest.\n",
        "4. **Oxford University's \"Greats\"**: The \"Greats\" course at Oxford University is a prestigious program in classics, philosophy, and ancient history. It comprehensively studies the ancient Greek and Roman civilizations, covering literature, philosophy, history, and languages.\n",
        "5. **University of Cambridge's \"Natural Sciences Tripos\"**: The Natural Sciences Tripos at Cambridge is a rigorous undergraduate program that allows students to study various natural sciences disciplines, including physics, chemistry, biology, mathematics, and earth sciences.\n",
        "6. **Yale University's Directed Studies Program**: Yale's Directed Studies Program is an interdisciplinary course sequence covering foundational literature, philosophy, and history texts. It provides students with a deep understanding of the Western intellectual tradition.\n",
        "7. **Princeton University's \"Integrated Science Curriculum\" (ISC)**: Princeton's ISC is a multidisciplinary program that combines biology, chemistry, physics, and mathematics in an integrated curriculum. It emphasizes problem-solving skills and prepares students for advanced research and science studies.\n",
        "\n",
        "These are just a few examples of famous course sequences or university academic programs. Each program reflects the institution's educational philosophy, values, and areas of academic strength.\n",
        "\n",
        "## References\n",
        "\n",
        "- [Studia Generalia](https://en.wikipedia.org/wiki/Studium_generale)\n",
        "- …"
      ],
      "metadata": {
        "id": "tN_R36OgRaJb"
      }
    }
  ]
}
